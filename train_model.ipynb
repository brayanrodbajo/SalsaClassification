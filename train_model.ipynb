{
 "cells": [
  {
   "cell_type": "code",
   "execution_count": 19,
   "metadata": {},
   "outputs": [],
   "source": [
    "import keras\n",
    "import numpy as np\n",
    "import pickle"
   ]
  },
  {
   "cell_type": "code",
   "execution_count": 20,
   "metadata": {},
   "outputs": [],
   "source": [
    "from keras import layers\n",
    "from keras import models\n",
    "from keras import backend\n",
    "from keras import optimizers\n",
    "from sklearn.model_selection import train_test_split"
   ]
  },
  {
   "cell_type": "code",
   "execution_count": 21,
   "metadata": {},
   "outputs": [
    {
     "name": "stdout",
     "output_type": "stream",
     "text": [
      "(6454, 108, 128)\n",
      "(6454, 9)\n"
     ]
    }
   ],
   "source": [
    "with open('data/data.pkl', 'rb') as f:\n",
    "    data = pickle.load(f)\n",
    "\n",
    "x = data['x']\n",
    "y = data['y']\n",
    "print(x.shape)\n",
    "print(y.shape)"
   ]
  },
  {
   "cell_type": "code",
   "execution_count": 22,
   "metadata": {},
   "outputs": [
    {
     "name": "stdout",
     "output_type": "stream",
     "text": [
      "10.343756\n",
      "-89.144424\n"
     ]
    }
   ],
   "source": [
    "print(np.amax(x))\n",
    "print(np.amin(x))"
   ]
  },
  {
   "cell_type": "code",
   "execution_count": 23,
   "metadata": {},
   "outputs": [],
   "source": [
    "#x = (x-np.amin(x))/(np.amax(x)-np.amin(x))"
   ]
  },
  {
   "cell_type": "code",
   "execution_count": 24,
   "metadata": {},
   "outputs": [
    {
     "name": "stdout",
     "output_type": "stream",
     "text": [
      "10.343756\n",
      "-89.144424\n"
     ]
    }
   ],
   "source": [
    "print(np.amax(x))\n",
    "print(np.amin(x))"
   ]
  },
  {
   "cell_type": "code",
   "execution_count": 25,
   "metadata": {
    "scrolled": false
   },
   "outputs": [
    {
     "name": "stdout",
     "output_type": "stream",
     "text": [
      "(5163, 108, 128)\n",
      "(1291, 108, 128)\n",
      "(5163, 9)\n",
      "(1291, 9)\n",
      "[859. 606. 570. 540. 547. 515. 515. 507. 504.]\n",
      "[235. 163. 121. 132. 131. 133. 134. 119. 123.]\n"
     ]
    }
   ],
   "source": [
    "(x_train, x_test, y_train, y_test) = train_test_split(x, y, test_size=0.2,\n",
    "        random_state=42)\n",
    "\n",
    "print(x_train.shape)\n",
    "print(x_test.shape)\n",
    "print(y_train.shape)\n",
    "print(y_test.shape)\n",
    "\n",
    "\n",
    "# How many songs by class\n",
    "print(y_train.sum(axis=0))\n",
    "print(y_test.sum(axis=0))"
   ]
  },
  {
   "cell_type": "markdown",
   "metadata": {},
   "source": [
    "Model from deepsound.io"
   ]
  },
  {
   "cell_type": "code",
   "execution_count": 13,
   "metadata": {
    "scrolled": true
   },
   "outputs": [
    {
     "name": "stdout",
     "output_type": "stream",
     "text": [
      "Building model...\n",
      "Training...\n"
     ]
    },
    {
     "name": "stderr",
     "output_type": "stream",
     "text": [
      "C:\\Users\\bryan\\Anaconda3\\lib\\site-packages\\ipykernel_launcher.py:45: UserWarning: The `nb_epoch` argument in `fit` has been renamed `epochs`.\n"
     ]
    },
    {
     "name": "stdout",
     "output_type": "stream",
     "text": [
      "Train on 4130 samples, validate on 1033 samples\n",
      "Epoch 1/100\n",
      "4130/4130 [==============================] - 40s 10ms/step - loss: 2.3149 - acc: 0.1448 - val_loss: 2.2278 - val_acc: 0.1607\n",
      "\n",
      "Epoch 00001: val_acc improved from -inf to 0.16070, saving model to models/model_salsa.h5\n",
      "Epoch 2/100\n",
      "4130/4130 [==============================] - 40s 10ms/step - loss: 2.2427 - acc: 0.1528 - val_loss: 2.2374 - val_acc: 0.0939\n",
      "\n",
      "Epoch 00002: val_acc did not improve from 0.16070\n",
      "Epoch 3/100\n",
      "4130/4130 [==============================] - 40s 10ms/step - loss: 2.2264 - acc: 0.1584 - val_loss: 2.2205 - val_acc: 0.1578\n",
      "\n",
      "Epoch 00003: val_acc did not improve from 0.16070\n",
      "Epoch 4/100\n",
      "4130/4130 [==============================] - 41s 10ms/step - loss: 2.2284 - acc: 0.1639 - val_loss: 2.2168 - val_acc: 0.1665\n",
      "\n",
      "Epoch 00004: val_acc improved from 0.16070 to 0.16651, saving model to models/model_salsa.h5\n",
      "Epoch 5/100\n",
      "4130/4130 [==============================] - 41s 10ms/step - loss: 2.2271 - acc: 0.1668 - val_loss: 2.2689 - val_acc: 0.1026\n",
      "\n",
      "Epoch 00005: val_acc did not improve from 0.16651\n",
      "Epoch 6/100\n",
      "4130/4130 [==============================] - 40s 10ms/step - loss: 2.2278 - acc: 0.1651 - val_loss: 2.2323 - val_acc: 0.1104\n",
      "\n",
      "Epoch 00006: val_acc did not improve from 0.16651\n",
      "Epoch 7/100\n",
      "4130/4130 [==============================] - 40s 10ms/step - loss: 2.2236 - acc: 0.1688 - val_loss: 2.3905 - val_acc: 0.1036\n",
      "\n",
      "Epoch 00007: val_acc did not improve from 0.16651\n",
      "Epoch 8/100\n",
      "4130/4130 [==============================] - 42s 10ms/step - loss: 2.2213 - acc: 0.1644 - val_loss: 2.3774 - val_acc: 0.1007\n",
      "\n",
      "Epoch 00008: val_acc did not improve from 0.16651\n",
      "Epoch 9/100\n",
      "4130/4130 [==============================] - 40s 10ms/step - loss: 2.2212 - acc: 0.1651 - val_loss: 2.2601 - val_acc: 0.0958\n",
      "\n",
      "Epoch 00009: val_acc did not improve from 0.16651\n",
      "Epoch 10/100\n",
      "4130/4130 [==============================] - 41s 10ms/step - loss: 2.2132 - acc: 0.1630 - val_loss: 2.3789 - val_acc: 0.0968\n",
      "\n",
      "Epoch 00010: val_acc did not improve from 0.16651\n",
      "Epoch 11/100\n",
      "4130/4130 [==============================] - 41s 10ms/step - loss: 2.2019 - acc: 0.1637 - val_loss: 2.4218 - val_acc: 0.1075\n",
      "\n",
      "Epoch 00011: val_acc did not improve from 0.16651\n",
      "\n",
      "Epoch 00011: ReduceLROnPlateau reducing learning rate to 0.0005000000237487257.\n",
      "Epoch 12/100\n",
      "4130/4130 [==============================] - 40s 10ms/step - loss: 2.1875 - acc: 0.1736 - val_loss: 2.2673 - val_acc: 0.1055\n",
      "\n",
      "Epoch 00012: val_acc did not improve from 0.16651\n",
      "Epoch 13/100\n",
      "4130/4130 [==============================] - 42s 10ms/step - loss: 2.1741 - acc: 0.1881 - val_loss: 2.7219 - val_acc: 0.0978\n",
      "\n",
      "Epoch 00013: val_acc did not improve from 0.16651\n",
      "Epoch 14/100\n",
      "4130/4130 [==============================] - 44s 11ms/step - loss: 2.1781 - acc: 0.1823 - val_loss: 3.1281 - val_acc: 0.1045\n",
      "\n",
      "Epoch 00014: val_acc did not improve from 0.16651\n",
      "Epoch 15/100\n",
      "4130/4130 [==============================] - 42s 10ms/step - loss: 2.1594 - acc: 0.1949 - val_loss: 2.6139 - val_acc: 0.1171\n",
      "\n",
      "Epoch 00015: val_acc did not improve from 0.16651\n",
      "Epoch 16/100\n",
      "4130/4130 [==============================] - 41s 10ms/step - loss: 2.1572 - acc: 0.1886 - val_loss: 2.5262 - val_acc: 0.0958\n",
      "\n",
      "Epoch 00016: val_acc did not improve from 0.16651\n",
      "Epoch 17/100\n",
      "4130/4130 [==============================] - 40s 10ms/step - loss: 2.1587 - acc: 0.1908 - val_loss: 2.7786 - val_acc: 0.1094\n",
      "\n",
      "Epoch 00017: val_acc did not improve from 0.16651\n",
      "Epoch 18/100\n",
      "4130/4130 [==============================] - 40s 10ms/step - loss: 2.1507 - acc: 0.2002 - val_loss: 3.3877 - val_acc: 0.0968\n",
      "\n",
      "Epoch 00018: val_acc did not improve from 0.16651\n",
      "Epoch 19/100\n",
      "4130/4130 [==============================] - 41s 10ms/step - loss: 2.1371 - acc: 0.2075 - val_loss: 2.7423 - val_acc: 0.1578\n",
      "\n",
      "Epoch 00019: val_acc did not improve from 0.16651\n",
      "Epoch 20/100\n",
      "4130/4130 [==============================] - 41s 10ms/step - loss: 2.1349 - acc: 0.2153 - val_loss: 3.7418 - val_acc: 0.0968\n",
      "\n",
      "Epoch 00020: val_acc did not improve from 0.16651\n",
      "Epoch 21/100\n",
      "4130/4130 [==============================] - 41s 10ms/step - loss: 2.1148 - acc: 0.2145 - val_loss: 3.8969 - val_acc: 0.1191\n",
      "\n",
      "Epoch 00021: val_acc did not improve from 0.16651\n",
      "\n",
      "Epoch 00021: ReduceLROnPlateau reducing learning rate to 0.0002500000118743628.\n",
      "Epoch 22/100\n",
      "4130/4130 [==============================] - 42s 10ms/step - loss: 2.0910 - acc: 0.2278 - val_loss: 4.7064 - val_acc: 0.1045\n",
      "\n",
      "Epoch 00022: val_acc did not improve from 0.16651\n",
      "Epoch 23/100\n",
      "4130/4130 [==============================] - 42s 10ms/step - loss: 2.0684 - acc: 0.2390 - val_loss: 3.0338 - val_acc: 0.1588\n",
      "\n",
      "Epoch 00023: val_acc did not improve from 0.16651\n",
      "Epoch 24/100\n",
      "4130/4130 [==============================] - 40s 10ms/step - loss: 2.0628 - acc: 0.2373 - val_loss: 4.4106 - val_acc: 0.1026\n",
      "\n",
      "Epoch 00024: val_acc did not improve from 0.16651\n",
      "Epoch 25/100\n",
      "4130/4130 [==============================] - 41s 10ms/step - loss: 2.0438 - acc: 0.2496 - val_loss: 3.1395 - val_acc: 0.1094\n",
      "\n",
      "Epoch 00025: val_acc did not improve from 0.16651\n",
      "Epoch 26/100\n",
      "4130/4130 [==============================] - 40s 10ms/step - loss: 2.0355 - acc: 0.2550 - val_loss: 3.7760 - val_acc: 0.0968\n",
      "\n",
      "Epoch 00026: val_acc did not improve from 0.16651\n",
      "Epoch 27/100\n",
      "4130/4130 [==============================] - 40s 10ms/step - loss: 2.0183 - acc: 0.2600 - val_loss: 2.6541 - val_acc: 0.1346\n",
      "\n",
      "Epoch 00027: val_acc did not improve from 0.16651\n",
      "Epoch 28/100\n",
      "4130/4130 [==============================] - 41s 10ms/step - loss: 2.0142 - acc: 0.2663 - val_loss: 3.5243 - val_acc: 0.1036\n",
      "\n",
      "Epoch 00028: val_acc did not improve from 0.16651\n",
      "Epoch 29/100\n",
      "4130/4130 [==============================] - 40s 10ms/step - loss: 1.9980 - acc: 0.2659 - val_loss: 5.5897 - val_acc: 0.1007\n",
      "\n",
      "Epoch 00029: val_acc did not improve from 0.16651\n",
      "Epoch 30/100\n",
      "4130/4130 [==============================] - 40s 10ms/step - loss: 1.9856 - acc: 0.2838 - val_loss: 5.3324 - val_acc: 0.1133\n",
      "\n",
      "Epoch 00030: val_acc did not improve from 0.16651\n",
      "Epoch 31/100\n",
      "4130/4130 [==============================] - 41s 10ms/step - loss: 1.9756 - acc: 0.2831 - val_loss: 4.0399 - val_acc: 0.0968\n",
      "\n",
      "Epoch 00031: val_acc did not improve from 0.16651\n",
      "\n",
      "Epoch 00031: ReduceLROnPlateau reducing learning rate to 0.0001250000059371814.\n",
      "Epoch 32/100\n",
      "4130/4130 [==============================] - 41s 10ms/step - loss: 1.9216 - acc: 0.3022 - val_loss: 5.2868 - val_acc: 0.0968\n",
      "\n",
      "Epoch 00032: val_acc did not improve from 0.16651\n",
      "Epoch 33/100\n",
      "4130/4130 [==============================] - 40s 10ms/step - loss: 1.9183 - acc: 0.3099 - val_loss: 3.3520 - val_acc: 0.1520\n",
      "\n",
      "Epoch 00033: val_acc did not improve from 0.16651\n",
      "Epoch 34/100\n",
      "4130/4130 [==============================] - 41s 10ms/step - loss: 1.8995 - acc: 0.3136 - val_loss: 4.4808 - val_acc: 0.1617\n",
      "\n",
      "Epoch 00034: val_acc did not improve from 0.16651\n",
      "Epoch 35/100\n",
      "4130/4130 [==============================] - 40s 10ms/step - loss: 1.8949 - acc: 0.3211 - val_loss: 7.5395 - val_acc: 0.1549\n",
      "\n",
      "Epoch 00035: val_acc did not improve from 0.16651\n",
      "Epoch 36/100\n",
      "4130/4130 [==============================] - 41s 10ms/step - loss: 1.8802 - acc: 0.3274 - val_loss: 8.5228 - val_acc: 0.0968\n",
      "\n",
      "Epoch 00036: val_acc did not improve from 0.16651\n",
      "Epoch 37/100\n",
      "4130/4130 [==============================] - 42s 10ms/step - loss: 1.8600 - acc: 0.3300 - val_loss: 7.1597 - val_acc: 0.1104\n",
      "\n",
      "Epoch 00037: val_acc did not improve from 0.16651\n",
      "Epoch 38/100\n",
      " 768/4130 [====>.........................] - ETA: 34s - loss: 1.8183 - acc: 0.3203"
     ]
    },
    {
     "ename": "KeyboardInterrupt",
     "evalue": "",
     "output_type": "error",
     "traceback": [
      "\u001b[1;31m---------------------------------------------------------------------------\u001b[0m",
      "\u001b[1;31mKeyboardInterrupt\u001b[0m                         Traceback (most recent call last)",
      "\u001b[1;32m<ipython-input-13-da71078c0e1b>\u001b[0m in \u001b[0;36m<module>\u001b[1;34m()\u001b[0m\n\u001b[0;32m     43\u001b[0m         keras.callbacks.ReduceLROnPlateau(\n\u001b[0;32m     44\u001b[0m             \u001b[0mmonitor\u001b[0m\u001b[1;33m=\u001b[0m\u001b[1;34m'val_acc'\u001b[0m\u001b[1;33m,\u001b[0m \u001b[0mfactor\u001b[0m\u001b[1;33m=\u001b[0m\u001b[1;36m0.5\u001b[0m\u001b[1;33m,\u001b[0m \u001b[0mpatience\u001b[0m\u001b[1;33m=\u001b[0m\u001b[1;36m10\u001b[0m\u001b[1;33m,\u001b[0m \u001b[0mmin_delta\u001b[0m\u001b[1;33m=\u001b[0m\u001b[1;36m0.01\u001b[0m\u001b[1;33m,\u001b[0m\u001b[1;33m\u001b[0m\u001b[0m\n\u001b[1;32m---> 45\u001b[1;33m             \u001b[0mverbose\u001b[0m\u001b[1;33m=\u001b[0m\u001b[1;36m1\u001b[0m\u001b[1;33m\u001b[0m\u001b[0m\n\u001b[0m\u001b[0;32m     46\u001b[0m         )\n\u001b[0;32m     47\u001b[0m     ]\n",
      "\u001b[1;32m~\\Anaconda3\\lib\\site-packages\\keras\\engine\\training.py\u001b[0m in \u001b[0;36mfit\u001b[1;34m(self, x, y, batch_size, epochs, verbose, callbacks, validation_split, validation_data, shuffle, class_weight, sample_weight, initial_epoch, steps_per_epoch, validation_steps, **kwargs)\u001b[0m\n\u001b[0;32m   1703\u001b[0m                               \u001b[0minitial_epoch\u001b[0m\u001b[1;33m=\u001b[0m\u001b[0minitial_epoch\u001b[0m\u001b[1;33m,\u001b[0m\u001b[1;33m\u001b[0m\u001b[0m\n\u001b[0;32m   1704\u001b[0m                               \u001b[0msteps_per_epoch\u001b[0m\u001b[1;33m=\u001b[0m\u001b[0msteps_per_epoch\u001b[0m\u001b[1;33m,\u001b[0m\u001b[1;33m\u001b[0m\u001b[0m\n\u001b[1;32m-> 1705\u001b[1;33m                               validation_steps=validation_steps)\n\u001b[0m\u001b[0;32m   1706\u001b[0m \u001b[1;33m\u001b[0m\u001b[0m\n\u001b[0;32m   1707\u001b[0m     def evaluate(self, x=None, y=None,\n",
      "\u001b[1;32m~\\Anaconda3\\lib\\site-packages\\keras\\engine\\training.py\u001b[0m in \u001b[0;36m_fit_loop\u001b[1;34m(self, f, ins, out_labels, batch_size, epochs, verbose, callbacks, val_f, val_ins, shuffle, callback_metrics, initial_epoch, steps_per_epoch, validation_steps)\u001b[0m\n\u001b[0;32m   1234\u001b[0m                         \u001b[0mins_batch\u001b[0m\u001b[1;33m[\u001b[0m\u001b[0mi\u001b[0m\u001b[1;33m]\u001b[0m \u001b[1;33m=\u001b[0m \u001b[0mins_batch\u001b[0m\u001b[1;33m[\u001b[0m\u001b[0mi\u001b[0m\u001b[1;33m]\u001b[0m\u001b[1;33m.\u001b[0m\u001b[0mtoarray\u001b[0m\u001b[1;33m(\u001b[0m\u001b[1;33m)\u001b[0m\u001b[1;33m\u001b[0m\u001b[0m\n\u001b[0;32m   1235\u001b[0m \u001b[1;33m\u001b[0m\u001b[0m\n\u001b[1;32m-> 1236\u001b[1;33m                     \u001b[0mouts\u001b[0m \u001b[1;33m=\u001b[0m \u001b[0mf\u001b[0m\u001b[1;33m(\u001b[0m\u001b[0mins_batch\u001b[0m\u001b[1;33m)\u001b[0m\u001b[1;33m\u001b[0m\u001b[0m\n\u001b[0m\u001b[0;32m   1237\u001b[0m                     \u001b[1;32mif\u001b[0m \u001b[1;32mnot\u001b[0m \u001b[0misinstance\u001b[0m\u001b[1;33m(\u001b[0m\u001b[0mouts\u001b[0m\u001b[1;33m,\u001b[0m \u001b[0mlist\u001b[0m\u001b[1;33m)\u001b[0m\u001b[1;33m:\u001b[0m\u001b[1;33m\u001b[0m\u001b[0m\n\u001b[0;32m   1238\u001b[0m                         \u001b[0mouts\u001b[0m \u001b[1;33m=\u001b[0m \u001b[1;33m[\u001b[0m\u001b[0mouts\u001b[0m\u001b[1;33m]\u001b[0m\u001b[1;33m\u001b[0m\u001b[0m\n",
      "\u001b[1;32m~\\Anaconda3\\lib\\site-packages\\keras\\backend\\tensorflow_backend.py\u001b[0m in \u001b[0;36m__call__\u001b[1;34m(self, inputs)\u001b[0m\n\u001b[0;32m   2480\u001b[0m         \u001b[0msession\u001b[0m \u001b[1;33m=\u001b[0m \u001b[0mget_session\u001b[0m\u001b[1;33m(\u001b[0m\u001b[1;33m)\u001b[0m\u001b[1;33m\u001b[0m\u001b[0m\n\u001b[0;32m   2481\u001b[0m         updated = session.run(fetches=fetches, feed_dict=feed_dict,\n\u001b[1;32m-> 2482\u001b[1;33m                               **self.session_kwargs)\n\u001b[0m\u001b[0;32m   2483\u001b[0m         \u001b[1;32mreturn\u001b[0m \u001b[0mupdated\u001b[0m\u001b[1;33m[\u001b[0m\u001b[1;33m:\u001b[0m\u001b[0mlen\u001b[0m\u001b[1;33m(\u001b[0m\u001b[0mself\u001b[0m\u001b[1;33m.\u001b[0m\u001b[0moutputs\u001b[0m\u001b[1;33m)\u001b[0m\u001b[1;33m]\u001b[0m\u001b[1;33m\u001b[0m\u001b[0m\n\u001b[0;32m   2484\u001b[0m \u001b[1;33m\u001b[0m\u001b[0m\n",
      "\u001b[1;32m~\\Anaconda3\\lib\\site-packages\\tensorflow\\python\\client\\session.py\u001b[0m in \u001b[0;36mrun\u001b[1;34m(self, fetches, feed_dict, options, run_metadata)\u001b[0m\n\u001b[0;32m    898\u001b[0m     \u001b[1;32mtry\u001b[0m\u001b[1;33m:\u001b[0m\u001b[1;33m\u001b[0m\u001b[0m\n\u001b[0;32m    899\u001b[0m       result = self._run(None, fetches, feed_dict, options_ptr,\n\u001b[1;32m--> 900\u001b[1;33m                          run_metadata_ptr)\n\u001b[0m\u001b[0;32m    901\u001b[0m       \u001b[1;32mif\u001b[0m \u001b[0mrun_metadata\u001b[0m\u001b[1;33m:\u001b[0m\u001b[1;33m\u001b[0m\u001b[0m\n\u001b[0;32m    902\u001b[0m         \u001b[0mproto_data\u001b[0m \u001b[1;33m=\u001b[0m \u001b[0mtf_session\u001b[0m\u001b[1;33m.\u001b[0m\u001b[0mTF_GetBuffer\u001b[0m\u001b[1;33m(\u001b[0m\u001b[0mrun_metadata_ptr\u001b[0m\u001b[1;33m)\u001b[0m\u001b[1;33m\u001b[0m\u001b[0m\n",
      "\u001b[1;32m~\\Anaconda3\\lib\\site-packages\\tensorflow\\python\\client\\session.py\u001b[0m in \u001b[0;36m_run\u001b[1;34m(self, handle, fetches, feed_dict, options, run_metadata)\u001b[0m\n\u001b[0;32m   1133\u001b[0m     \u001b[1;32mif\u001b[0m \u001b[0mfinal_fetches\u001b[0m \u001b[1;32mor\u001b[0m \u001b[0mfinal_targets\u001b[0m \u001b[1;32mor\u001b[0m \u001b[1;33m(\u001b[0m\u001b[0mhandle\u001b[0m \u001b[1;32mand\u001b[0m \u001b[0mfeed_dict_tensor\u001b[0m\u001b[1;33m)\u001b[0m\u001b[1;33m:\u001b[0m\u001b[1;33m\u001b[0m\u001b[0m\n\u001b[0;32m   1134\u001b[0m       results = self._do_run(handle, final_targets, final_fetches,\n\u001b[1;32m-> 1135\u001b[1;33m                              feed_dict_tensor, options, run_metadata)\n\u001b[0m\u001b[0;32m   1136\u001b[0m     \u001b[1;32melse\u001b[0m\u001b[1;33m:\u001b[0m\u001b[1;33m\u001b[0m\u001b[0m\n\u001b[0;32m   1137\u001b[0m       \u001b[0mresults\u001b[0m \u001b[1;33m=\u001b[0m \u001b[1;33m[\u001b[0m\u001b[1;33m]\u001b[0m\u001b[1;33m\u001b[0m\u001b[0m\n",
      "\u001b[1;32m~\\Anaconda3\\lib\\site-packages\\tensorflow\\python\\client\\session.py\u001b[0m in \u001b[0;36m_do_run\u001b[1;34m(self, handle, target_list, fetch_list, feed_dict, options, run_metadata)\u001b[0m\n\u001b[0;32m   1314\u001b[0m     \u001b[1;32mif\u001b[0m \u001b[0mhandle\u001b[0m \u001b[1;32mis\u001b[0m \u001b[1;32mNone\u001b[0m\u001b[1;33m:\u001b[0m\u001b[1;33m\u001b[0m\u001b[0m\n\u001b[0;32m   1315\u001b[0m       return self._do_call(_run_fn, feeds, fetches, targets, options,\n\u001b[1;32m-> 1316\u001b[1;33m                            run_metadata)\n\u001b[0m\u001b[0;32m   1317\u001b[0m     \u001b[1;32melse\u001b[0m\u001b[1;33m:\u001b[0m\u001b[1;33m\u001b[0m\u001b[0m\n\u001b[0;32m   1318\u001b[0m       \u001b[1;32mreturn\u001b[0m \u001b[0mself\u001b[0m\u001b[1;33m.\u001b[0m\u001b[0m_do_call\u001b[0m\u001b[1;33m(\u001b[0m\u001b[0m_prun_fn\u001b[0m\u001b[1;33m,\u001b[0m \u001b[0mhandle\u001b[0m\u001b[1;33m,\u001b[0m \u001b[0mfeeds\u001b[0m\u001b[1;33m,\u001b[0m \u001b[0mfetches\u001b[0m\u001b[1;33m)\u001b[0m\u001b[1;33m\u001b[0m\u001b[0m\n",
      "\u001b[1;32m~\\Anaconda3\\lib\\site-packages\\tensorflow\\python\\client\\session.py\u001b[0m in \u001b[0;36m_do_call\u001b[1;34m(self, fn, *args)\u001b[0m\n\u001b[0;32m   1320\u001b[0m   \u001b[1;32mdef\u001b[0m \u001b[0m_do_call\u001b[0m\u001b[1;33m(\u001b[0m\u001b[0mself\u001b[0m\u001b[1;33m,\u001b[0m \u001b[0mfn\u001b[0m\u001b[1;33m,\u001b[0m \u001b[1;33m*\u001b[0m\u001b[0margs\u001b[0m\u001b[1;33m)\u001b[0m\u001b[1;33m:\u001b[0m\u001b[1;33m\u001b[0m\u001b[0m\n\u001b[0;32m   1321\u001b[0m     \u001b[1;32mtry\u001b[0m\u001b[1;33m:\u001b[0m\u001b[1;33m\u001b[0m\u001b[0m\n\u001b[1;32m-> 1322\u001b[1;33m       \u001b[1;32mreturn\u001b[0m \u001b[0mfn\u001b[0m\u001b[1;33m(\u001b[0m\u001b[1;33m*\u001b[0m\u001b[0margs\u001b[0m\u001b[1;33m)\u001b[0m\u001b[1;33m\u001b[0m\u001b[0m\n\u001b[0m\u001b[0;32m   1323\u001b[0m     \u001b[1;32mexcept\u001b[0m \u001b[0merrors\u001b[0m\u001b[1;33m.\u001b[0m\u001b[0mOpError\u001b[0m \u001b[1;32mas\u001b[0m \u001b[0me\u001b[0m\u001b[1;33m:\u001b[0m\u001b[1;33m\u001b[0m\u001b[0m\n\u001b[0;32m   1324\u001b[0m       \u001b[0mmessage\u001b[0m \u001b[1;33m=\u001b[0m \u001b[0mcompat\u001b[0m\u001b[1;33m.\u001b[0m\u001b[0mas_text\u001b[0m\u001b[1;33m(\u001b[0m\u001b[0me\u001b[0m\u001b[1;33m.\u001b[0m\u001b[0mmessage\u001b[0m\u001b[1;33m)\u001b[0m\u001b[1;33m\u001b[0m\u001b[0m\n",
      "\u001b[1;32m~\\Anaconda3\\lib\\site-packages\\tensorflow\\python\\client\\session.py\u001b[0m in \u001b[0;36m_run_fn\u001b[1;34m(feed_dict, fetch_list, target_list, options, run_metadata)\u001b[0m\n\u001b[0;32m   1305\u001b[0m       \u001b[0mself\u001b[0m\u001b[1;33m.\u001b[0m\u001b[0m_extend_graph\u001b[0m\u001b[1;33m(\u001b[0m\u001b[1;33m)\u001b[0m\u001b[1;33m\u001b[0m\u001b[0m\n\u001b[0;32m   1306\u001b[0m       return self._call_tf_sessionrun(\n\u001b[1;32m-> 1307\u001b[1;33m           options, feed_dict, fetch_list, target_list, run_metadata)\n\u001b[0m\u001b[0;32m   1308\u001b[0m \u001b[1;33m\u001b[0m\u001b[0m\n\u001b[0;32m   1309\u001b[0m     \u001b[1;32mdef\u001b[0m \u001b[0m_prun_fn\u001b[0m\u001b[1;33m(\u001b[0m\u001b[0mhandle\u001b[0m\u001b[1;33m,\u001b[0m \u001b[0mfeed_dict\u001b[0m\u001b[1;33m,\u001b[0m \u001b[0mfetch_list\u001b[0m\u001b[1;33m)\u001b[0m\u001b[1;33m:\u001b[0m\u001b[1;33m\u001b[0m\u001b[0m\n",
      "\u001b[1;32m~\\Anaconda3\\lib\\site-packages\\tensorflow\\python\\client\\session.py\u001b[0m in \u001b[0;36m_call_tf_sessionrun\u001b[1;34m(self, options, feed_dict, fetch_list, target_list, run_metadata)\u001b[0m\n\u001b[0;32m   1407\u001b[0m       return tf_session.TF_SessionRun_wrapper(\n\u001b[0;32m   1408\u001b[0m           \u001b[0mself\u001b[0m\u001b[1;33m.\u001b[0m\u001b[0m_session\u001b[0m\u001b[1;33m,\u001b[0m \u001b[0moptions\u001b[0m\u001b[1;33m,\u001b[0m \u001b[0mfeed_dict\u001b[0m\u001b[1;33m,\u001b[0m \u001b[0mfetch_list\u001b[0m\u001b[1;33m,\u001b[0m \u001b[0mtarget_list\u001b[0m\u001b[1;33m,\u001b[0m\u001b[1;33m\u001b[0m\u001b[0m\n\u001b[1;32m-> 1409\u001b[1;33m           run_metadata)\n\u001b[0m\u001b[0;32m   1410\u001b[0m     \u001b[1;32melse\u001b[0m\u001b[1;33m:\u001b[0m\u001b[1;33m\u001b[0m\u001b[0m\n\u001b[0;32m   1411\u001b[0m       \u001b[1;32mwith\u001b[0m \u001b[0merrors\u001b[0m\u001b[1;33m.\u001b[0m\u001b[0mraise_exception_on_not_ok_status\u001b[0m\u001b[1;33m(\u001b[0m\u001b[1;33m)\u001b[0m \u001b[1;32mas\u001b[0m \u001b[0mstatus\u001b[0m\u001b[1;33m:\u001b[0m\u001b[1;33m\u001b[0m\u001b[0m\n",
      "\u001b[1;31mKeyboardInterrupt\u001b[0m: "
     ]
    }
   ],
   "source": [
    "print('Building model...')\n",
    "\n",
    "n_features = x_train.shape[2]\n",
    "input_shape = (None, n_features)\n",
    "model_input = layers.Input(input_shape, name='input')\n",
    "layer = model_input\n",
    "for i in range(3):\n",
    "    # second convolutional layer names are used by extract_filters.py\n",
    "    layer = layers.Convolution1D(\n",
    "            filters=256,\n",
    "            kernel_size=5,\n",
    "            name='convolution_' + str(i + 1)\n",
    "        )(layer)\n",
    "    layer = layers.BatchNormalization(momentum=0.9)(layer)\n",
    "    layer = layers.Activation('relu')(layer)\n",
    "    layer = layers.MaxPooling1D(2)(layer)\n",
    "    layer = layers.Dropout(0.5)(layer)\n",
    "\n",
    "layer = layers.TimeDistributed(layers.Dense(9))(layer)\n",
    "time_distributed_merge_layer = layers.Lambda(\n",
    "        function=lambda x: backend.mean(x, axis=1),\n",
    "        output_shape=lambda shape: (shape[0],) + shape[2:],\n",
    "        name='output_merged'\n",
    "    )\n",
    "layer = time_distributed_merge_layer(layer)\n",
    "layer = layers.Activation('softmax', name='output_realtime')(layer)\n",
    "model_output = layer\n",
    "model = models.Model(model_input, model_output)\n",
    "opt = optimizers.Adam(lr=0.001)\n",
    "model.compile(\n",
    "        loss='categorical_crossentropy',\n",
    "        optimizer=opt,\n",
    "        metrics=['accuracy']\n",
    "    )\n",
    "\n",
    "print('Training...')\n",
    "history = model.fit(\n",
    "    x_train, y_train, batch_size=32, nb_epoch=100,\n",
    "    validation_split=0.2, verbose=1, callbacks=[\n",
    "        keras.callbacks.ModelCheckpoint(\n",
    "            'models/model_salsa.h5', save_best_only=True, monitor='val_acc', verbose=1\n",
    "        ),\n",
    "        keras.callbacks.ReduceLROnPlateau(\n",
    "            monitor='val_acc', factor=0.5, patience=10, min_delta=0.01,\n",
    "            verbose=1\n",
    "        )\n",
    "    ]\n",
    ")"
   ]
  },
  {
   "cell_type": "markdown",
   "metadata": {},
   "source": [
    "Maximum validation accuracy in 100 epochs: 0.16651"
   ]
  },
  {
   "cell_type": "code",
   "execution_count": 38,
   "metadata": {},
   "outputs": [],
   "source": [
    "model = models.Sequential()\n",
    "model.add(layers.Convolution1D(256, 5, activation='relu',# padding='same',\n",
    "                        input_shape=(None, x_train.shape[2])))\n",
    "model.add(layers.MaxPooling1D(2))\n",
    "model.add(layers.Convolution1D(256, 5, activation='relu'))\n",
    "model.add(layers.MaxPooling1D(2))\n",
    "model.add(layers.Convolution1D(256, 5, activation='relu')) #, padding='same'))\n",
    "model.add(layers.MaxPooling1D(2))\n",
    "model.add(layers.Convolution1D(256, 5, activation='relu')) #, padding='same'))\n",
    "model.add(layers.MaxPooling1D(2))\n",
    "model.add(layers.TimeDistributed(layers.Dense(9, activation='softmax')))\n",
    "time_distributed_merge_layer = layers.Lambda(\n",
    "            function=lambda x: backend.mean(x, axis=1),\n",
    "            output_shape=lambda shape: (shape[0],) + shape[2:],\n",
    "            name='output_merged'\n",
    "        )\n",
    "model.add(time_distributed_merge_layer)"
   ]
  },
  {
   "cell_type": "code",
   "execution_count": 39,
   "metadata": {
    "scrolled": true
   },
   "outputs": [
    {
     "name": "stdout",
     "output_type": "stream",
     "text": [
      "_________________________________________________________________\n",
      "Layer (type)                 Output Shape              Param #   \n",
      "=================================================================\n",
      "conv1d_21 (Conv1D)           (None, 104, 256)          164096    \n",
      "_________________________________________________________________\n",
      "conv1d_22 (Conv1D)           (None, 100, 256)          327936    \n",
      "_________________________________________________________________\n",
      "max_pooling1d_21 (MaxPooling (None, 50, 256)           0         \n",
      "_________________________________________________________________\n",
      "conv1d_23 (Conv1D)           (None, 46, 256)           327936    \n",
      "_________________________________________________________________\n",
      "conv1d_24 (Conv1D)           (None, 42, 256)           327936    \n",
      "_________________________________________________________________\n",
      "max_pooling1d_22 (MaxPooling (None, 21, 256)           0         \n",
      "_________________________________________________________________\n",
      "time_distributed_6 (TimeDist (None, 21, 9)             2313      \n",
      "_________________________________________________________________\n",
      "output_merged (Lambda)       (None, 9)                 0         \n",
      "=================================================================\n",
      "Total params: 1,150,217\n",
      "Trainable params: 1,150,217\n",
      "Non-trainable params: 0\n",
      "_________________________________________________________________\n"
     ]
    }
   ],
   "source": [
    "model.summary()"
   ]
  },
  {
   "cell_type": "code",
   "execution_count": 36,
   "metadata": {
    "scrolled": true
   },
   "outputs": [
    {
     "name": "stdout",
     "output_type": "stream",
     "text": [
      "Train on 4130 samples, validate on 1033 samples\n",
      "Epoch 1/100\n",
      "4130/4130 [==============================] - 35s 8ms/step - loss: 0.7987 - acc: 0.8605 - val_loss: 2.7399 - val_acc: 0.1200\n",
      "Epoch 2/100\n",
      "4130/4130 [==============================] - 35s 8ms/step - loss: 0.7208 - acc: 0.8862 - val_loss: 2.8587 - val_acc: 0.1404\n",
      "Epoch 3/100\n",
      "4130/4130 [==============================] - 35s 9ms/step - loss: 0.6609 - acc: 0.9039 - val_loss: 2.8853 - val_acc: 0.1365\n",
      "Epoch 4/100\n",
      "4130/4130 [==============================] - 36s 9ms/step - loss: 0.6010 - acc: 0.9245 - val_loss: 2.8411 - val_acc: 0.1123\n",
      "Epoch 5/100\n",
      "4130/4130 [==============================] - 36s 9ms/step - loss: 0.5500 - acc: 0.9387 - val_loss: 2.8380 - val_acc: 0.1210\n",
      "Epoch 6/100\n",
      "4130/4130 [==============================] - 36s 9ms/step - loss: 0.5329 - acc: 0.9324 - val_loss: 2.9758 - val_acc: 0.1481\n",
      "Epoch 7/100\n",
      "4130/4130 [==============================] - 36s 9ms/step - loss: 0.4984 - acc: 0.9363 - val_loss: 2.9540 - val_acc: 0.1133\n",
      "Epoch 8/100\n",
      "4130/4130 [==============================] - 37s 9ms/step - loss: 0.4476 - acc: 0.9479 - val_loss: 2.8723 - val_acc: 0.1104\n",
      "Epoch 9/100\n",
      "4130/4130 [==============================] - 35s 9ms/step - loss: 0.4277 - acc: 0.9489 - val_loss: 3.2890 - val_acc: 0.1442\n",
      "Epoch 10/100\n",
      "4130/4130 [==============================] - 36s 9ms/step - loss: 0.4040 - acc: 0.9584 - val_loss: 2.9738 - val_acc: 0.1288\n",
      "Epoch 11/100\n",
      "4130/4130 [==============================] - 36s 9ms/step - loss: 0.3554 - acc: 0.9663 - val_loss: 3.0890 - val_acc: 0.1297\n",
      "Epoch 12/100\n",
      "4130/4130 [==============================] - 39s 9ms/step - loss: 0.3333 - acc: 0.9685 - val_loss: 3.1117 - val_acc: 0.1307\n",
      "Epoch 13/100\n",
      "4130/4130 [==============================] - 37s 9ms/step - loss: 0.3095 - acc: 0.9678 - val_loss: 3.1594 - val_acc: 0.0968\n",
      "Epoch 14/100\n",
      "4130/4130 [==============================] - 38s 9ms/step - loss: 0.3049 - acc: 0.9702 - val_loss: 3.0753 - val_acc: 0.1239\n",
      "Epoch 15/100\n",
      "4130/4130 [==============================] - 39s 9ms/step - loss: 0.2624 - acc: 0.9780 - val_loss: 3.1466 - val_acc: 0.1355\n",
      "Epoch 16/100\n",
      "4130/4130 [==============================] - 38s 9ms/step - loss: 0.2480 - acc: 0.9755 - val_loss: 3.1595 - val_acc: 0.1346\n",
      "Epoch 17/100\n",
      "4130/4130 [==============================] - 39s 9ms/step - loss: 0.2189 - acc: 0.9799 - val_loss: 3.3028 - val_acc: 0.1307\n",
      "Epoch 18/100\n",
      "4130/4130 [==============================] - 38s 9ms/step - loss: 0.2105 - acc: 0.9782 - val_loss: 3.4832 - val_acc: 0.1326\n",
      "Epoch 19/100\n",
      "4130/4130 [==============================] - 38s 9ms/step - loss: 0.2110 - acc: 0.9787 - val_loss: 3.3870 - val_acc: 0.1442\n",
      "Epoch 20/100\n",
      "4130/4130 [==============================] - 39s 9ms/step - loss: 0.1910 - acc: 0.9823 - val_loss: 3.4403 - val_acc: 0.1423\n",
      "Epoch 21/100\n",
      "4130/4130 [==============================] - 39s 9ms/step - loss: 0.1886 - acc: 0.9816 - val_loss: 3.4346 - val_acc: 0.1229\n",
      "Epoch 22/100\n",
      "4130/4130 [==============================] - 39s 9ms/step - loss: 0.1845 - acc: 0.9804 - val_loss: 3.4170 - val_acc: 0.1220\n",
      "Epoch 23/100\n",
      "4130/4130 [==============================] - 39s 9ms/step - loss: 0.2927 - acc: 0.9453 - val_loss: 3.6724 - val_acc: 0.1123\n",
      "Epoch 24/100\n",
      "4130/4130 [==============================] - 40s 10ms/step - loss: 0.2068 - acc: 0.9743 - val_loss: 3.3593 - val_acc: 0.1288\n",
      "Epoch 25/100\n",
      "4130/4130 [==============================] - 39s 9ms/step - loss: 0.1386 - acc: 0.9852 - val_loss: 3.3945 - val_acc: 0.1055\n",
      "Epoch 26/100\n",
      "4130/4130 [==============================] - 40s 10ms/step - loss: 0.1279 - acc: 0.9860 - val_loss: 3.5112 - val_acc: 0.1317\n",
      "Epoch 27/100\n",
      "4130/4130 [==============================] - 39s 9ms/step - loss: 0.1230 - acc: 0.9845 - val_loss: 3.6857 - val_acc: 0.1588\n",
      "Epoch 28/100\n",
      "4130/4130 [==============================] - 40s 10ms/step - loss: 0.1154 - acc: 0.9847 - val_loss: 3.4909 - val_acc: 0.1365\n",
      "Epoch 29/100\n",
      "4130/4130 [==============================] - 39s 9ms/step - loss: 0.1062 - acc: 0.9874 - val_loss: 3.5746 - val_acc: 0.1065\n",
      "Epoch 30/100\n",
      "4130/4130 [==============================] - 40s 10ms/step - loss: 0.1063 - acc: 0.9857 - val_loss: 3.5659 - val_acc: 0.1152\n",
      "Epoch 31/100\n",
      "4130/4130 [==============================] - 39s 9ms/step - loss: 0.1002 - acc: 0.9850 - val_loss: 3.5822 - val_acc: 0.1094\n",
      "Epoch 32/100\n",
      "4130/4130 [==============================] - 40s 10ms/step - loss: 0.0967 - acc: 0.9874 - val_loss: 3.6807 - val_acc: 0.1239\n",
      "Epoch 33/100\n",
      "4130/4130 [==============================] - 40s 10ms/step - loss: 0.1026 - acc: 0.9847 - val_loss: 3.7680 - val_acc: 0.0997\n",
      "Epoch 34/100\n",
      "4130/4130 [==============================] - 40s 10ms/step - loss: 0.0953 - acc: 0.9867 - val_loss: 3.7405 - val_acc: 0.1258\n",
      "Epoch 35/100\n",
      "4130/4130 [==============================] - 40s 10ms/step - loss: 0.0945 - acc: 0.9877 - val_loss: 3.6866 - val_acc: 0.1162\n",
      "Epoch 36/100\n",
      "4130/4130 [==============================] - 40s 10ms/step - loss: 0.0852 - acc: 0.9874 - val_loss: 3.8129 - val_acc: 0.1123\n",
      "Epoch 37/100\n",
      "4130/4130 [==============================] - 40s 10ms/step - loss: 0.0783 - acc: 0.9877 - val_loss: 3.8780 - val_acc: 0.1084\n",
      "Epoch 38/100\n",
      "4130/4130 [==============================] - 40s 10ms/step - loss: 0.0762 - acc: 0.9886 - val_loss: 3.8130 - val_acc: 0.1094\n",
      "Epoch 39/100\n",
      "4130/4130 [==============================] - 42s 10ms/step - loss: 0.0765 - acc: 0.9891 - val_loss: 3.8001 - val_acc: 0.1239\n",
      "Epoch 40/100\n",
      "4130/4130 [==============================] - 41s 10ms/step - loss: 0.0691 - acc: 0.9893 - val_loss: 3.7973 - val_acc: 0.1336\n",
      "Epoch 41/100\n",
      "4130/4130 [==============================] - 40s 10ms/step - loss: 0.0730 - acc: 0.9855 - val_loss: 4.0026 - val_acc: 0.1288\n",
      "Epoch 42/100\n",
      "4130/4130 [==============================] - 41s 10ms/step - loss: 0.1038 - acc: 0.9821 - val_loss: 4.8674 - val_acc: 0.1346\n",
      "Epoch 43/100\n",
      "4130/4130 [==============================] - 40s 10ms/step - loss: 0.8268 - acc: 0.7651 - val_loss: 3.4887 - val_acc: 0.1404\n",
      "Epoch 44/100\n",
      "4130/4130 [==============================] - 41s 10ms/step - loss: 0.1675 - acc: 0.9806 - val_loss: 3.4874 - val_acc: 0.1220\n",
      "Epoch 45/100\n",
      "4130/4130 [==============================] - 40s 10ms/step - loss: 0.0768 - acc: 0.9908 - val_loss: 3.5906 - val_acc: 0.1268\n",
      "Epoch 46/100\n",
      "4130/4130 [==============================] - 40s 10ms/step - loss: 0.0667 - acc: 0.9906 - val_loss: 3.6737 - val_acc: 0.1288\n",
      "Epoch 47/100\n",
      "4130/4130 [==============================] - 41s 10ms/step - loss: 0.0616 - acc: 0.9913 - val_loss: 3.7061 - val_acc: 0.1258\n",
      "Epoch 48/100\n",
      "4130/4130 [==============================] - 41s 10ms/step - loss: 0.0620 - acc: 0.9903 - val_loss: 3.7403 - val_acc: 0.1229\n",
      "Epoch 49/100\n",
      "4130/4130 [==============================] - 40s 10ms/step - loss: 0.0588 - acc: 0.9910 - val_loss: 3.7708 - val_acc: 0.1326\n",
      "Epoch 50/100\n",
      "4130/4130 [==============================] - 41s 10ms/step - loss: 0.0572 - acc: 0.9920 - val_loss: 3.8211 - val_acc: 0.1210\n",
      "Epoch 51/100\n",
      "4130/4130 [==============================] - 41s 10ms/step - loss: 0.0550 - acc: 0.9923 - val_loss: 3.8319 - val_acc: 0.1249\n",
      "Epoch 52/100\n",
      "4130/4130 [==============================] - 41s 10ms/step - loss: 0.0557 - acc: 0.9906 - val_loss: 3.8867 - val_acc: 0.1346\n",
      "Epoch 53/100\n",
      "4130/4130 [==============================] - 41s 10ms/step - loss: 0.0542 - acc: 0.9925 - val_loss: 3.9036 - val_acc: 0.1423\n",
      "Epoch 54/100\n",
      "4130/4130 [==============================] - 44s 11ms/step - loss: 0.0541 - acc: 0.9913 - val_loss: 3.9896 - val_acc: 0.1336\n",
      "Epoch 55/100\n",
      "4130/4130 [==============================] - 41s 10ms/step - loss: 0.0513 - acc: 0.9927 - val_loss: 3.9358 - val_acc: 0.1239\n",
      "Epoch 56/100\n",
      "4130/4130 [==============================] - 41s 10ms/step - loss: 0.0510 - acc: 0.9923 - val_loss: 3.9985 - val_acc: 0.1288\n",
      "Epoch 57/100\n",
      "4130/4130 [==============================] - 41s 10ms/step - loss: 0.0563 - acc: 0.9884 - val_loss: 4.0661 - val_acc: 0.1104\n",
      "Epoch 58/100\n",
      "4130/4130 [==============================] - 41s 10ms/step - loss: 0.0536 - acc: 0.9910 - val_loss: 4.0454 - val_acc: 0.1181\n",
      "Epoch 59/100\n",
      "4130/4130 [==============================] - 41s 10ms/step - loss: 0.0499 - acc: 0.9923 - val_loss: 3.9872 - val_acc: 0.1113\n",
      "Epoch 60/100\n"
     ]
    },
    {
     "name": "stdout",
     "output_type": "stream",
     "text": [
      "4130/4130 [==============================] - 40s 10ms/step - loss: 0.0490 - acc: 0.9910 - val_loss: 4.0934 - val_acc: 0.1171\n",
      "Epoch 61/100\n",
      "4130/4130 [==============================] - 43s 10ms/step - loss: 0.0519 - acc: 0.9906 - val_loss: 4.0605 - val_acc: 0.1249\n",
      "Epoch 62/100\n",
      "4130/4130 [==============================] - 41s 10ms/step - loss: 0.0486 - acc: 0.9920 - val_loss: 4.0339 - val_acc: 0.1394\n",
      "Epoch 63/100\n",
      "4130/4130 [==============================] - 40s 10ms/step - loss: 0.0512 - acc: 0.9925 - val_loss: 4.1933 - val_acc: 0.1229\n",
      "Epoch 64/100\n",
      "4130/4130 [==============================] - 40s 10ms/step - loss: 0.0471 - acc: 0.9925 - val_loss: 4.1580 - val_acc: 0.1278\n",
      "Epoch 65/100\n",
      "4130/4130 [==============================] - 41s 10ms/step - loss: 0.0464 - acc: 0.9918 - val_loss: 4.2513 - val_acc: 0.1307\n",
      "Epoch 66/100\n",
      "4130/4130 [==============================] - 41s 10ms/step - loss: 0.0498 - acc: 0.9920 - val_loss: 4.1394 - val_acc: 0.1288\n",
      "Epoch 67/100\n",
      "4130/4130 [==============================] - 41s 10ms/step - loss: 0.0437 - acc: 0.9923 - val_loss: 4.1594 - val_acc: 0.1065\n",
      "Epoch 68/100\n",
      "4130/4130 [==============================] - 42s 10ms/step - loss: 0.0424 - acc: 0.9930 - val_loss: 4.2182 - val_acc: 0.1229\n",
      "Epoch 69/100\n",
      "4130/4130 [==============================] - 41s 10ms/step - loss: 0.0445 - acc: 0.9927 - val_loss: 4.2691 - val_acc: 0.1210\n",
      "Epoch 70/100\n",
      "4130/4130 [==============================] - 42s 10ms/step - loss: 0.0451 - acc: 0.9923 - val_loss: 4.2633 - val_acc: 0.1297\n",
      "Epoch 71/100\n",
      "4130/4130 [==============================] - 42s 10ms/step - loss: 0.0433 - acc: 0.9915 - val_loss: 4.2771 - val_acc: 0.1191\n",
      "Epoch 72/100\n",
      "4130/4130 [==============================] - 41s 10ms/step - loss: 0.0468 - acc: 0.9925 - val_loss: 4.4843 - val_acc: 0.1084\n",
      "Epoch 73/100\n",
      "4130/4130 [==============================] - 40s 10ms/step - loss: 4.6041 - acc: 0.3947 - val_loss: 2.4346 - val_acc: 0.1162\n",
      "Epoch 74/100\n",
      "4130/4130 [==============================] - 40s 10ms/step - loss: 2.2262 - acc: 0.1533 - val_loss: 2.2180 - val_acc: 0.1481\n",
      "Epoch 75/100\n",
      "4130/4130 [==============================] - 39s 10ms/step - loss: 2.1852 - acc: 0.1678 - val_loss: 2.2101 - val_acc: 0.1510\n",
      "Epoch 76/100\n",
      "4130/4130 [==============================] - 39s 10ms/step - loss: 2.1670 - acc: 0.1743 - val_loss: 2.2070 - val_acc: 0.1549\n",
      "Epoch 77/100\n",
      "4130/4130 [==============================] - 40s 10ms/step - loss: 2.1510 - acc: 0.1850 - val_loss: 2.2251 - val_acc: 0.1471\n",
      "Epoch 78/100\n",
      "4130/4130 [==============================] - 39s 9ms/step - loss: 2.1198 - acc: 0.2019 - val_loss: 2.2492 - val_acc: 0.1258\n",
      "Epoch 79/100\n",
      "4130/4130 [==============================] - 39s 10ms/step - loss: 2.0834 - acc: 0.2107 - val_loss: 2.2879 - val_acc: 0.1530\n",
      "Epoch 80/100\n",
      "4130/4130 [==============================] - 39s 10ms/step - loss: 2.0008 - acc: 0.2603 - val_loss: 2.3627 - val_acc: 0.1200\n",
      "Epoch 81/100\n",
      "4130/4130 [==============================] - 40s 10ms/step - loss: 1.7733 - acc: 0.3661 - val_loss: 2.7819 - val_acc: 0.1200\n",
      "Epoch 82/100\n",
      "4130/4130 [==============================] - 40s 10ms/step - loss: 1.0709 - acc: 0.6484 - val_loss: 3.8471 - val_acc: 0.1394\n",
      "Epoch 83/100\n",
      "4130/4130 [==============================] - 42s 10ms/step - loss: 0.4595 - acc: 0.8789 - val_loss: 4.0238 - val_acc: 0.1346\n",
      "Epoch 84/100\n",
      "4130/4130 [==============================] - 40s 10ms/step - loss: 0.1729 - acc: 0.9717 - val_loss: 4.0053 - val_acc: 0.1200\n",
      "Epoch 85/100\n",
      "4130/4130 [==============================] - 40s 10ms/step - loss: 0.0682 - acc: 0.9920 - val_loss: 4.0674 - val_acc: 0.1229\n",
      "Epoch 86/100\n",
      "4130/4130 [==============================] - 40s 10ms/step - loss: 0.0552 - acc: 0.9925 - val_loss: 4.1521 - val_acc: 0.1220\n",
      "Epoch 87/100\n",
      "4130/4130 [==============================] - 39s 10ms/step - loss: 0.0499 - acc: 0.9927 - val_loss: 4.2328 - val_acc: 0.1133\n",
      "Epoch 88/100\n",
      "4130/4130 [==============================] - 40s 10ms/step - loss: 0.0457 - acc: 0.9925 - val_loss: 4.2358 - val_acc: 0.1142\n",
      "Epoch 89/100\n",
      "4130/4130 [==============================] - 40s 10ms/step - loss: 0.0430 - acc: 0.9937 - val_loss: 4.2909 - val_acc: 0.1229\n",
      "Epoch 90/100\n",
      "4130/4130 [==============================] - 40s 10ms/step - loss: 0.0426 - acc: 0.9932 - val_loss: 4.2872 - val_acc: 0.1210\n",
      "Epoch 91/100\n",
      "4130/4130 [==============================] - 41s 10ms/step - loss: 0.0407 - acc: 0.9935 - val_loss: 4.3458 - val_acc: 0.1200\n",
      "Epoch 92/100\n",
      "4130/4130 [==============================] - 40s 10ms/step - loss: 0.0409 - acc: 0.9944 - val_loss: 4.3877 - val_acc: 0.1084\n",
      "Epoch 93/100\n",
      "4130/4130 [==============================] - 39s 10ms/step - loss: 0.0420 - acc: 0.9930 - val_loss: 4.4065 - val_acc: 0.1104\n",
      "Epoch 94/100\n",
      "4130/4130 [==============================] - 40s 10ms/step - loss: 0.0386 - acc: 0.9942 - val_loss: 4.4697 - val_acc: 0.1297\n",
      "Epoch 95/100\n",
      "4130/4130 [==============================] - 40s 10ms/step - loss: 0.0378 - acc: 0.9937 - val_loss: 4.4440 - val_acc: 0.1104\n",
      "Epoch 96/100\n",
      "4130/4130 [==============================] - 40s 10ms/step - loss: 0.0362 - acc: 0.9947 - val_loss: 4.5571 - val_acc: 0.1191\n",
      "Epoch 97/100\n",
      "4130/4130 [==============================] - 40s 10ms/step - loss: 0.0378 - acc: 0.9937 - val_loss: 4.5057 - val_acc: 0.1210\n",
      "Epoch 98/100\n",
      "4130/4130 [==============================] - 40s 10ms/step - loss: 0.0368 - acc: 0.9939 - val_loss: 4.5533 - val_acc: 0.1317\n",
      "Epoch 99/100\n",
      "4130/4130 [==============================] - 40s 10ms/step - loss: 0.0383 - acc: 0.9925 - val_loss: 4.5785 - val_acc: 0.1171\n",
      "Epoch 100/100\n",
      "4130/4130 [==============================] - 40s 10ms/step - loss: 0.0357 - acc: 0.9947 - val_loss: 4.5503 - val_acc: 0.1210\n"
     ]
    }
   ],
   "source": [
    "model.compile(loss='categorical_crossentropy',\n",
    "              optimizer=optimizers.Adam(lr=1e-4),\n",
    "              metrics=['acc'])\n",
    "\n",
    "history = model.fit(x_train, y_train, epochs=100, batch_size=64, validation_split=0.2)"
   ]
  },
  {
   "cell_type": "code",
   "execution_count": 37,
   "metadata": {},
   "outputs": [
    {
     "name": "stdout",
     "output_type": "stream",
     "text": [
      "range(0, 100)\n"
     ]
    },
    {
     "data": {
      "image/png": "[encoded data removed]",
      "text/plain": [
       "<Figure size 432x288 with 1 Axes>"
      ]
     },
     "metadata": {},
     "output_type": "display_data"
    },
    {
     "data": {
      "image/png": "[encoded data removed]",
      "text/plain": [
       "<Figure size 432x288 with 1 Axes>"
      ]
     },
     "metadata": {},
     "output_type": "display_data"
    }
   ],
   "source": [
    "import matplotlib.pyplot as plt\n",
    "\n",
    "acc = history.history['acc']\n",
    "val_acc = history.history['val_acc']\n",
    "loss = history.history['loss']\n",
    "val_loss = history.history['val_loss']\n",
    "\n",
    "epochs = range(len(acc))\n",
    "\n",
    "print(epochs)\n",
    "\n",
    "plt.plot(epochs, acc, 'bo', label='Training acc')\n",
    "plt.plot(epochs, val_acc, 'b', label='Validation acc')\n",
    "plt.title('Training and validation accuracy')\n",
    "plt.legend()\n",
    "plt.show()\n",
    "\n",
    "plt.plot(epochs, loss, 'bo', label='Training loss')\n",
    "plt.plot(epochs, val_loss, 'b', label='Validation loss')\n",
    "plt.title('Training and validation loss')\n",
    "plt.legend()\n",
    "plt.show()"
   ]
  },
  {
   "cell_type": "code",
   "execution_count": 47,
   "metadata": {},
   "outputs": [],
   "source": [
    "x_train = x_train.reshape(x_train.shape[0], x_train.shape[1], x_train.shape[2], 1)"
   ]
  },
  {
   "cell_type": "code",
   "execution_count": 57,
   "metadata": {},
   "outputs": [],
   "source": [
    "model = models.Sequential()\n",
    "model.add(layers.Conv2D(149, (3, 3), activation='relu', #padding='same',\n",
    "                        input_shape=(x_train.shape[1], x_train.shape[2], 1)))\n",
    "model.add(layers.MaxPooling2D((2, 4)))#, padding='same'))\n",
    "model.add(layers.Dropout(0.25))\n",
    "model.add(layers.Conv2D(64, (3, 5), activation='relu'))#, padding='same'))\n",
    "model.add(layers.MaxPooling2D((2, 4)))#, padding='same'))\n",
    "model.add(layers.Dropout(0.25))\n",
    "model.add(layers.Flatten())\n",
    "model.add(layers.Dense(32, activation='relu'))\n",
    "model.add(layers.Dropout(0.25))\n",
    "model.add(layers.Dense(9, activation = 'softmax'))"
   ]
  },
  {
   "cell_type": "code",
   "execution_count": 58,
   "metadata": {
    "scrolled": true
   },
   "outputs": [
    {
     "name": "stdout",
     "output_type": "stream",
     "text": [
      "_________________________________________________________________\n",
      "Layer (type)                 Output Shape              Param #   \n",
      "=================================================================\n",
      "conv2d_10 (Conv2D)           (None, 106, 126, 149)     1490      \n",
      "_________________________________________________________________\n",
      "max_pooling2d_10 (MaxPooling (None, 53, 31, 149)       0         \n",
      "_________________________________________________________________\n",
      "dropout_12 (Dropout)         (None, 53, 31, 149)       0         \n",
      "_________________________________________________________________\n",
      "conv2d_11 (Conv2D)           (None, 51, 27, 64)        143104    \n",
      "_________________________________________________________________\n",
      "max_pooling2d_11 (MaxPooling (None, 25, 6, 64)         0         \n",
      "_________________________________________________________________\n",
      "dropout_13 (Dropout)         (None, 25, 6, 64)         0         \n",
      "_________________________________________________________________\n",
      "flatten_3 (Flatten)          (None, 9600)              0         \n",
      "_________________________________________________________________\n",
      "dense_11 (Dense)             (None, 32)                307232    \n",
      "_________________________________________________________________\n",
      "dropout_14 (Dropout)         (None, 32)                0         \n",
      "_________________________________________________________________\n",
      "dense_12 (Dense)             (None, 9)                 297       \n",
      "=================================================================\n",
      "Total params: 452,123\n",
      "Trainable params: 452,123\n",
      "Non-trainable params: 0\n",
      "_________________________________________________________________\n"
     ]
    }
   ],
   "source": [
    "model.summary()"
   ]
  },
  {
   "cell_type": "code",
   "execution_count": 59,
   "metadata": {
    "scrolled": true
   },
   "outputs": [
    {
     "name": "stdout",
     "output_type": "stream",
     "text": [
      "Train on 4130 samples, validate on 1033 samples\n",
      "Epoch 1/100\n",
      "4130/4130 [==============================] - 355s 86ms/step - loss: 2.2445 - acc: 0.1477 - val_loss: 2.1914 - val_acc: 0.1578\n",
      "Epoch 2/100\n",
      "4130/4130 [==============================] - 340s 82ms/step - loss: 2.1908 - acc: 0.1586 - val_loss: 2.1889 - val_acc: 0.1578\n",
      "Epoch 3/100\n",
      "4130/4130 [==============================] - 335s 81ms/step - loss: 2.1900 - acc: 0.1671 - val_loss: 2.1907 - val_acc: 0.1578\n",
      "Epoch 4/100\n",
      "4130/4130 [==============================] - 369s 89ms/step - loss: 2.1863 - acc: 0.1685 - val_loss: 2.1893 - val_acc: 0.1578\n",
      "Epoch 5/100\n",
      "4130/4130 [==============================] - 317s 77ms/step - loss: 2.1834 - acc: 0.1685 - val_loss: 2.1882 - val_acc: 0.1578\n",
      "Epoch 6/100\n",
      "4130/4130 [==============================] - 317s 77ms/step - loss: 2.1823 - acc: 0.1702 - val_loss: 2.1884 - val_acc: 0.1578\n",
      "Epoch 7/100\n",
      "4130/4130 [==============================] - 307s 74ms/step - loss: 2.1798 - acc: 0.1695 - val_loss: 2.1910 - val_acc: 0.1578\n",
      "Epoch 8/100\n",
      "4130/4130 [==============================] - 302s 73ms/step - loss: 2.1780 - acc: 0.1714 - val_loss: 2.1932 - val_acc: 0.1578\n",
      "Epoch 9/100\n",
      "4130/4130 [==============================] - 373s 90ms/step - loss: 2.1784 - acc: 0.1722 - val_loss: 2.2142 - val_acc: 0.1520\n",
      "Epoch 10/100\n",
      "4130/4130 [==============================] - 397s 96ms/step - loss: 2.1774 - acc: 0.1724 - val_loss: 2.1919 - val_acc: 0.1559\n",
      "Epoch 11/100\n",
      "4130/4130 [==============================] - 381s 92ms/step - loss: 2.1716 - acc: 0.1717 - val_loss: 2.1941 - val_acc: 0.1539\n",
      "Epoch 12/100\n",
      "4130/4130 [==============================] - 420s 102ms/step - loss: 2.1745 - acc: 0.1729 - val_loss: 2.1895 - val_acc: 0.1578\n",
      "Epoch 13/100\n",
      "4130/4130 [==============================] - 385s 93ms/step - loss: 2.1780 - acc: 0.1700 - val_loss: 2.1907 - val_acc: 0.1568\n",
      "Epoch 14/100\n",
      "4130/4130 [==============================] - 482s 117ms/step - loss: 2.1666 - acc: 0.1724 - val_loss: 2.1996 - val_acc: 0.1568\n",
      "Epoch 15/100\n",
      "3392/4130 [=======================>......] - ETA: 1:03 - loss: 2.1567 - acc: 0.1801"
     ]
    },
    {
     "ename": "KeyboardInterrupt",
     "evalue": "",
     "output_type": "error",
     "traceback": [
      "\u001b[1;31m---------------------------------------------------------------------------\u001b[0m",
      "\u001b[1;31mKeyboardInterrupt\u001b[0m                         Traceback (most recent call last)",
      "\u001b[1;32m<ipython-input-59-854f7e675012>\u001b[0m in \u001b[0;36m<module>\u001b[1;34m()\u001b[0m\n\u001b[0;32m      3\u001b[0m               metrics=['acc'])\n\u001b[0;32m      4\u001b[0m \u001b[1;33m\u001b[0m\u001b[0m\n\u001b[1;32m----> 5\u001b[1;33m \u001b[0mhistory\u001b[0m \u001b[1;33m=\u001b[0m \u001b[0mmodel\u001b[0m\u001b[1;33m.\u001b[0m\u001b[0mfit\u001b[0m\u001b[1;33m(\u001b[0m\u001b[0mx_train\u001b[0m\u001b[1;33m,\u001b[0m \u001b[0my_train\u001b[0m\u001b[1;33m,\u001b[0m \u001b[0mepochs\u001b[0m\u001b[1;33m=\u001b[0m\u001b[1;36m100\u001b[0m\u001b[1;33m,\u001b[0m \u001b[0mbatch_size\u001b[0m\u001b[1;33m=\u001b[0m\u001b[1;36m64\u001b[0m\u001b[1;33m,\u001b[0m \u001b[0mvalidation_split\u001b[0m\u001b[1;33m=\u001b[0m\u001b[1;36m0.2\u001b[0m\u001b[1;33m)\u001b[0m\u001b[1;33m\u001b[0m\u001b[0m\n\u001b[0m",
      "\u001b[1;32m~\\Anaconda3\\lib\\site-packages\\keras\\models.py\u001b[0m in \u001b[0;36mfit\u001b[1;34m(self, x, y, batch_size, epochs, verbose, callbacks, validation_split, validation_data, shuffle, class_weight, sample_weight, initial_epoch, steps_per_epoch, validation_steps, **kwargs)\u001b[0m\n\u001b[0;32m   1000\u001b[0m                               \u001b[0minitial_epoch\u001b[0m\u001b[1;33m=\u001b[0m\u001b[0minitial_epoch\u001b[0m\u001b[1;33m,\u001b[0m\u001b[1;33m\u001b[0m\u001b[0m\n\u001b[0;32m   1001\u001b[0m                               \u001b[0msteps_per_epoch\u001b[0m\u001b[1;33m=\u001b[0m\u001b[0msteps_per_epoch\u001b[0m\u001b[1;33m,\u001b[0m\u001b[1;33m\u001b[0m\u001b[0m\n\u001b[1;32m-> 1002\u001b[1;33m                               validation_steps=validation_steps)\n\u001b[0m\u001b[0;32m   1003\u001b[0m \u001b[1;33m\u001b[0m\u001b[0m\n\u001b[0;32m   1004\u001b[0m     def evaluate(self, x=None, y=None,\n",
      "\u001b[1;32m~\\Anaconda3\\lib\\site-packages\\keras\\engine\\training.py\u001b[0m in \u001b[0;36mfit\u001b[1;34m(self, x, y, batch_size, epochs, verbose, callbacks, validation_split, validation_data, shuffle, class_weight, sample_weight, initial_epoch, steps_per_epoch, validation_steps, **kwargs)\u001b[0m\n\u001b[0;32m   1703\u001b[0m                               \u001b[0minitial_epoch\u001b[0m\u001b[1;33m=\u001b[0m\u001b[0minitial_epoch\u001b[0m\u001b[1;33m,\u001b[0m\u001b[1;33m\u001b[0m\u001b[0m\n\u001b[0;32m   1704\u001b[0m                               \u001b[0msteps_per_epoch\u001b[0m\u001b[1;33m=\u001b[0m\u001b[0msteps_per_epoch\u001b[0m\u001b[1;33m,\u001b[0m\u001b[1;33m\u001b[0m\u001b[0m\n\u001b[1;32m-> 1705\u001b[1;33m                               validation_steps=validation_steps)\n\u001b[0m\u001b[0;32m   1706\u001b[0m \u001b[1;33m\u001b[0m\u001b[0m\n\u001b[0;32m   1707\u001b[0m     def evaluate(self, x=None, y=None,\n",
      "\u001b[1;32m~\\Anaconda3\\lib\\site-packages\\keras\\engine\\training.py\u001b[0m in \u001b[0;36m_fit_loop\u001b[1;34m(self, f, ins, out_labels, batch_size, epochs, verbose, callbacks, val_f, val_ins, shuffle, callback_metrics, initial_epoch, steps_per_epoch, validation_steps)\u001b[0m\n\u001b[0;32m   1234\u001b[0m                         \u001b[0mins_batch\u001b[0m\u001b[1;33m[\u001b[0m\u001b[0mi\u001b[0m\u001b[1;33m]\u001b[0m \u001b[1;33m=\u001b[0m \u001b[0mins_batch\u001b[0m\u001b[1;33m[\u001b[0m\u001b[0mi\u001b[0m\u001b[1;33m]\u001b[0m\u001b[1;33m.\u001b[0m\u001b[0mtoarray\u001b[0m\u001b[1;33m(\u001b[0m\u001b[1;33m)\u001b[0m\u001b[1;33m\u001b[0m\u001b[0m\n\u001b[0;32m   1235\u001b[0m \u001b[1;33m\u001b[0m\u001b[0m\n\u001b[1;32m-> 1236\u001b[1;33m                     \u001b[0mouts\u001b[0m \u001b[1;33m=\u001b[0m \u001b[0mf\u001b[0m\u001b[1;33m(\u001b[0m\u001b[0mins_batch\u001b[0m\u001b[1;33m)\u001b[0m\u001b[1;33m\u001b[0m\u001b[0m\n\u001b[0m\u001b[0;32m   1237\u001b[0m                     \u001b[1;32mif\u001b[0m \u001b[1;32mnot\u001b[0m \u001b[0misinstance\u001b[0m\u001b[1;33m(\u001b[0m\u001b[0mouts\u001b[0m\u001b[1;33m,\u001b[0m \u001b[0mlist\u001b[0m\u001b[1;33m)\u001b[0m\u001b[1;33m:\u001b[0m\u001b[1;33m\u001b[0m\u001b[0m\n\u001b[0;32m   1238\u001b[0m                         \u001b[0mouts\u001b[0m \u001b[1;33m=\u001b[0m \u001b[1;33m[\u001b[0m\u001b[0mouts\u001b[0m\u001b[1;33m]\u001b[0m\u001b[1;33m\u001b[0m\u001b[0m\n",
      "\u001b[1;32m~\\Anaconda3\\lib\\site-packages\\keras\\backend\\tensorflow_backend.py\u001b[0m in \u001b[0;36m__call__\u001b[1;34m(self, inputs)\u001b[0m\n\u001b[0;32m   2480\u001b[0m         \u001b[0msession\u001b[0m \u001b[1;33m=\u001b[0m \u001b[0mget_session\u001b[0m\u001b[1;33m(\u001b[0m\u001b[1;33m)\u001b[0m\u001b[1;33m\u001b[0m\u001b[0m\n\u001b[0;32m   2481\u001b[0m         updated = session.run(fetches=fetches, feed_dict=feed_dict,\n\u001b[1;32m-> 2482\u001b[1;33m                               **self.session_kwargs)\n\u001b[0m\u001b[0;32m   2483\u001b[0m         \u001b[1;32mreturn\u001b[0m \u001b[0mupdated\u001b[0m\u001b[1;33m[\u001b[0m\u001b[1;33m:\u001b[0m\u001b[0mlen\u001b[0m\u001b[1;33m(\u001b[0m\u001b[0mself\u001b[0m\u001b[1;33m.\u001b[0m\u001b[0moutputs\u001b[0m\u001b[1;33m)\u001b[0m\u001b[1;33m]\u001b[0m\u001b[1;33m\u001b[0m\u001b[0m\n\u001b[0;32m   2484\u001b[0m \u001b[1;33m\u001b[0m\u001b[0m\n",
      "\u001b[1;32m~\\Anaconda3\\lib\\site-packages\\tensorflow\\python\\client\\session.py\u001b[0m in \u001b[0;36mrun\u001b[1;34m(self, fetches, feed_dict, options, run_metadata)\u001b[0m\n\u001b[0;32m    898\u001b[0m     \u001b[1;32mtry\u001b[0m\u001b[1;33m:\u001b[0m\u001b[1;33m\u001b[0m\u001b[0m\n\u001b[0;32m    899\u001b[0m       result = self._run(None, fetches, feed_dict, options_ptr,\n\u001b[1;32m--> 900\u001b[1;33m                          run_metadata_ptr)\n\u001b[0m\u001b[0;32m    901\u001b[0m       \u001b[1;32mif\u001b[0m \u001b[0mrun_metadata\u001b[0m\u001b[1;33m:\u001b[0m\u001b[1;33m\u001b[0m\u001b[0m\n\u001b[0;32m    902\u001b[0m         \u001b[0mproto_data\u001b[0m \u001b[1;33m=\u001b[0m \u001b[0mtf_session\u001b[0m\u001b[1;33m.\u001b[0m\u001b[0mTF_GetBuffer\u001b[0m\u001b[1;33m(\u001b[0m\u001b[0mrun_metadata_ptr\u001b[0m\u001b[1;33m)\u001b[0m\u001b[1;33m\u001b[0m\u001b[0m\n",
      "\u001b[1;32m~\\Anaconda3\\lib\\site-packages\\tensorflow\\python\\client\\session.py\u001b[0m in \u001b[0;36m_run\u001b[1;34m(self, handle, fetches, feed_dict, options, run_metadata)\u001b[0m\n\u001b[0;32m   1133\u001b[0m     \u001b[1;32mif\u001b[0m \u001b[0mfinal_fetches\u001b[0m \u001b[1;32mor\u001b[0m \u001b[0mfinal_targets\u001b[0m \u001b[1;32mor\u001b[0m \u001b[1;33m(\u001b[0m\u001b[0mhandle\u001b[0m \u001b[1;32mand\u001b[0m \u001b[0mfeed_dict_tensor\u001b[0m\u001b[1;33m)\u001b[0m\u001b[1;33m:\u001b[0m\u001b[1;33m\u001b[0m\u001b[0m\n\u001b[0;32m   1134\u001b[0m       results = self._do_run(handle, final_targets, final_fetches,\n\u001b[1;32m-> 1135\u001b[1;33m                              feed_dict_tensor, options, run_metadata)\n\u001b[0m\u001b[0;32m   1136\u001b[0m     \u001b[1;32melse\u001b[0m\u001b[1;33m:\u001b[0m\u001b[1;33m\u001b[0m\u001b[0m\n\u001b[0;32m   1137\u001b[0m       \u001b[0mresults\u001b[0m \u001b[1;33m=\u001b[0m \u001b[1;33m[\u001b[0m\u001b[1;33m]\u001b[0m\u001b[1;33m\u001b[0m\u001b[0m\n",
      "\u001b[1;32m~\\Anaconda3\\lib\\site-packages\\tensorflow\\python\\client\\session.py\u001b[0m in \u001b[0;36m_do_run\u001b[1;34m(self, handle, target_list, fetch_list, feed_dict, options, run_metadata)\u001b[0m\n\u001b[0;32m   1314\u001b[0m     \u001b[1;32mif\u001b[0m \u001b[0mhandle\u001b[0m \u001b[1;32mis\u001b[0m \u001b[1;32mNone\u001b[0m\u001b[1;33m:\u001b[0m\u001b[1;33m\u001b[0m\u001b[0m\n\u001b[0;32m   1315\u001b[0m       return self._do_call(_run_fn, feeds, fetches, targets, options,\n\u001b[1;32m-> 1316\u001b[1;33m                            run_metadata)\n\u001b[0m\u001b[0;32m   1317\u001b[0m     \u001b[1;32melse\u001b[0m\u001b[1;33m:\u001b[0m\u001b[1;33m\u001b[0m\u001b[0m\n\u001b[0;32m   1318\u001b[0m       \u001b[1;32mreturn\u001b[0m \u001b[0mself\u001b[0m\u001b[1;33m.\u001b[0m\u001b[0m_do_call\u001b[0m\u001b[1;33m(\u001b[0m\u001b[0m_prun_fn\u001b[0m\u001b[1;33m,\u001b[0m \u001b[0mhandle\u001b[0m\u001b[1;33m,\u001b[0m \u001b[0mfeeds\u001b[0m\u001b[1;33m,\u001b[0m \u001b[0mfetches\u001b[0m\u001b[1;33m)\u001b[0m\u001b[1;33m\u001b[0m\u001b[0m\n",
      "\u001b[1;32m~\\Anaconda3\\lib\\site-packages\\tensorflow\\python\\client\\session.py\u001b[0m in \u001b[0;36m_do_call\u001b[1;34m(self, fn, *args)\u001b[0m\n\u001b[0;32m   1320\u001b[0m   \u001b[1;32mdef\u001b[0m \u001b[0m_do_call\u001b[0m\u001b[1;33m(\u001b[0m\u001b[0mself\u001b[0m\u001b[1;33m,\u001b[0m \u001b[0mfn\u001b[0m\u001b[1;33m,\u001b[0m \u001b[1;33m*\u001b[0m\u001b[0margs\u001b[0m\u001b[1;33m)\u001b[0m\u001b[1;33m:\u001b[0m\u001b[1;33m\u001b[0m\u001b[0m\n\u001b[0;32m   1321\u001b[0m     \u001b[1;32mtry\u001b[0m\u001b[1;33m:\u001b[0m\u001b[1;33m\u001b[0m\u001b[0m\n\u001b[1;32m-> 1322\u001b[1;33m       \u001b[1;32mreturn\u001b[0m \u001b[0mfn\u001b[0m\u001b[1;33m(\u001b[0m\u001b[1;33m*\u001b[0m\u001b[0margs\u001b[0m\u001b[1;33m)\u001b[0m\u001b[1;33m\u001b[0m\u001b[0m\n\u001b[0m\u001b[0;32m   1323\u001b[0m     \u001b[1;32mexcept\u001b[0m \u001b[0merrors\u001b[0m\u001b[1;33m.\u001b[0m\u001b[0mOpError\u001b[0m \u001b[1;32mas\u001b[0m \u001b[0me\u001b[0m\u001b[1;33m:\u001b[0m\u001b[1;33m\u001b[0m\u001b[0m\n\u001b[0;32m   1324\u001b[0m       \u001b[0mmessage\u001b[0m \u001b[1;33m=\u001b[0m \u001b[0mcompat\u001b[0m\u001b[1;33m.\u001b[0m\u001b[0mas_text\u001b[0m\u001b[1;33m(\u001b[0m\u001b[0me\u001b[0m\u001b[1;33m.\u001b[0m\u001b[0mmessage\u001b[0m\u001b[1;33m)\u001b[0m\u001b[1;33m\u001b[0m\u001b[0m\n",
      "\u001b[1;32m~\\Anaconda3\\lib\\site-packages\\tensorflow\\python\\client\\session.py\u001b[0m in \u001b[0;36m_run_fn\u001b[1;34m(feed_dict, fetch_list, target_list, options, run_metadata)\u001b[0m\n\u001b[0;32m   1305\u001b[0m       \u001b[0mself\u001b[0m\u001b[1;33m.\u001b[0m\u001b[0m_extend_graph\u001b[0m\u001b[1;33m(\u001b[0m\u001b[1;33m)\u001b[0m\u001b[1;33m\u001b[0m\u001b[0m\n\u001b[0;32m   1306\u001b[0m       return self._call_tf_sessionrun(\n\u001b[1;32m-> 1307\u001b[1;33m           options, feed_dict, fetch_list, target_list, run_metadata)\n\u001b[0m\u001b[0;32m   1308\u001b[0m \u001b[1;33m\u001b[0m\u001b[0m\n\u001b[0;32m   1309\u001b[0m     \u001b[1;32mdef\u001b[0m \u001b[0m_prun_fn\u001b[0m\u001b[1;33m(\u001b[0m\u001b[0mhandle\u001b[0m\u001b[1;33m,\u001b[0m \u001b[0mfeed_dict\u001b[0m\u001b[1;33m,\u001b[0m \u001b[0mfetch_list\u001b[0m\u001b[1;33m)\u001b[0m\u001b[1;33m:\u001b[0m\u001b[1;33m\u001b[0m\u001b[0m\n",
      "\u001b[1;32m~\\Anaconda3\\lib\\site-packages\\tensorflow\\python\\client\\session.py\u001b[0m in \u001b[0;36m_call_tf_sessionrun\u001b[1;34m(self, options, feed_dict, fetch_list, target_list, run_metadata)\u001b[0m\n\u001b[0;32m   1407\u001b[0m       return tf_session.TF_SessionRun_wrapper(\n\u001b[0;32m   1408\u001b[0m           \u001b[0mself\u001b[0m\u001b[1;33m.\u001b[0m\u001b[0m_session\u001b[0m\u001b[1;33m,\u001b[0m \u001b[0moptions\u001b[0m\u001b[1;33m,\u001b[0m \u001b[0mfeed_dict\u001b[0m\u001b[1;33m,\u001b[0m \u001b[0mfetch_list\u001b[0m\u001b[1;33m,\u001b[0m \u001b[0mtarget_list\u001b[0m\u001b[1;33m,\u001b[0m\u001b[1;33m\u001b[0m\u001b[0m\n\u001b[1;32m-> 1409\u001b[1;33m           run_metadata)\n\u001b[0m\u001b[0;32m   1410\u001b[0m     \u001b[1;32melse\u001b[0m\u001b[1;33m:\u001b[0m\u001b[1;33m\u001b[0m\u001b[0m\n\u001b[0;32m   1411\u001b[0m       \u001b[1;32mwith\u001b[0m \u001b[0merrors\u001b[0m\u001b[1;33m.\u001b[0m\u001b[0mraise_exception_on_not_ok_status\u001b[0m\u001b[1;33m(\u001b[0m\u001b[1;33m)\u001b[0m \u001b[1;32mas\u001b[0m \u001b[0mstatus\u001b[0m\u001b[1;33m:\u001b[0m\u001b[1;33m\u001b[0m\u001b[0m\n",
      "\u001b[1;31mKeyboardInterrupt\u001b[0m: "
     ]
    }
   ],
   "source": [
    "model.compile(loss='categorical_crossentropy',\n",
    "              optimizer=optimizers.Adam(lr=0.001),\n",
    "              metrics=['acc'])\n",
    "\n",
    "history = model.fit(x_train, y_train, epochs=100, batch_size=64, validation_split=0.2)"
   ]
  },
  {
   "cell_type": "code",
   "execution_count": 43,
   "metadata": {},
   "outputs": [
    {
     "name": "stdout",
     "output_type": "stream",
     "text": [
      "range(0, 20)\n"
     ]
    },
    {
     "data": {
      "image/png": "[encoded data removed]",
      "text/plain": [
       "<Figure size 432x288 with 1 Axes>"
      ]
     },
     "metadata": {},
     "output_type": "display_data"
    },
    {
     "data": {
      "image/png": "[encoded data removed]",
      "text/plain": [
       "<Figure size 432x288 with 1 Axes>"
      ]
     },
     "metadata": {},
     "output_type": "display_data"
    }
   ],
   "source": [
    "import matplotlib.pyplot as plt\n",
    "\n",
    "acc = history.history['acc']\n",
    "val_acc = history.history['val_acc']\n",
    "loss = history.history['loss']\n",
    "val_loss = history.history['val_loss']\n",
    "\n",
    "epochs = range(len(acc))\n",
    "\n",
    "print(epochs)\n",
    "\n",
    "plt.plot(epochs, acc, 'bo', label='Training acc')\n",
    "plt.plot(epochs, val_acc, 'b', label='Validation acc')\n",
    "plt.title('Training and validation accuracy')\n",
    "plt.legend()\n",
    "plt.show()\n",
    "\n",
    "plt.plot(epochs, loss, 'bo', label='Training loss')\n",
    "plt.plot(epochs, val_loss, 'b', label='Validation loss')\n",
    "plt.title('Training and validation loss')\n",
    "plt.legend()\n",
    "plt.show()"
   ]
  },
  {
   "cell_type": "code",
   "execution_count": null,
   "metadata": {},
   "outputs": [],
   "source": []
  }
 ],
 "metadata": {
  "kernelspec": {
   "display_name": "Python 3",
   "language": "python",
   "name": "python3"
  },
  "language_info": {
   "codemirror_mode": {
    "name": "ipython",
    "version": 3
   },
   "file_extension": ".py",
   "mimetype": "text/x-python",
   "name": "python",
   "nbconvert_exporter": "python",
   "pygments_lexer": "ipython3",
   "version": "3.6.5"
  }
 },
 "nbformat": 4,
 "nbformat_minor": 2
}
