{
 "cells": [
  {
   "cell_type": "code",
   "execution_count": 1,
   "metadata": {},
   "outputs": [
    {
     "name": "stderr",
     "output_type": "stream",
     "text": [
      "Using TensorFlow backend.\n"
     ]
    }
   ],
   "source": [
    "import keras\n",
    "import numpy as np\n",
    "import pickle"
   ]
  },
  {
   "cell_type": "code",
   "execution_count": 2,
   "metadata": {},
   "outputs": [],
   "source": [
    "from keras import layers\n",
    "from keras import models\n",
    "from keras import backend\n",
    "from keras import optimizers\n",
    "from keras import regularizers\n",
    "from sklearn.model_selection import train_test_split"
   ]
  },
  {
   "cell_type": "code",
   "execution_count": 4,
   "metadata": {},
   "outputs": [
    {
     "name": "stdout",
     "output_type": "stream",
     "text": [
      "(5346, 862, 128)\n",
      "(5346, 2)\n",
      "2\n",
      "[2266. 3080.]\n"
     ]
    }
   ],
   "source": [
    "with open('data/data.pkl', 'rb') as f:\n",
    "    data = pickle.load(f)\n",
    "\n",
    "x = data['x']\n",
    "y = data['y']\n",
    "print(x.shape)\n",
    "print(y.shape)\n",
    "\n",
    "NUM_GENRES= y.shape[1]\n",
    "\n",
    "print(NUM_GENRES)\n",
    "print(y.sum(axis=0))"
   ]
  },
  {
   "cell_type": "code",
   "execution_count": 6,
   "metadata": {
    "scrolled": true
   },
   "outputs": [
    {
     "name": "stdout",
     "output_type": "stream",
     "text": [
      "6.272013\n",
      "-96.657776\n"
     ]
    }
   ],
   "source": [
    "print(np.amax(x))\n",
    "print(np.amin(x))"
   ]
  },
  {
   "cell_type": "code",
   "execution_count": 129,
   "metadata": {},
   "outputs": [],
   "source": [
    "#x = (x-np.amin(x))/(np.amax(x)-np.amin(x))"
   ]
  },
  {
   "cell_type": "code",
   "execution_count": 130,
   "metadata": {},
   "outputs": [
    {
     "name": "stdout",
     "output_type": "stream",
     "text": [
      "10.309701\n",
      "-89.144424\n"
     ]
    }
   ],
   "source": [
    "print(np.amax(x))\n",
    "print(np.amin(x))"
   ]
  },
  {
   "cell_type": "code",
   "execution_count": 5,
   "metadata": {
    "scrolled": false
   },
   "outputs": [
    {
     "name": "stdout",
     "output_type": "stream",
     "text": [
      "(4276, 862, 128)\n",
      "(1070, 862, 128)\n",
      "(4276, 2)\n",
      "(1070, 2)\n",
      "[1797. 2479.]\n",
      "[469. 601.]\n"
     ]
    }
   ],
   "source": [
    "(x_train, x_test, y_train, y_test) = train_test_split(x, y, test_size=0.2,\n",
    "        random_state=42)\n",
    "\n",
    "print(x_train.shape)\n",
    "print(x_test.shape)\n",
    "print(y_train.shape)\n",
    "print(y_test.shape)\n",
    "\n",
    "\n",
    "# How many songs by class\n",
    "print(y_train.sum(axis=0))\n",
    "print(y_test.sum(axis=0))"
   ]
  },
  {
   "cell_type": "markdown",
   "metadata": {},
   "source": [
    "Model from deepsound.io"
   ]
  },
  {
   "cell_type": "code",
   "execution_count": 6,
   "metadata": {
    "scrolled": true
   },
   "outputs": [
    {
     "name": "stdout",
     "output_type": "stream",
     "text": [
      "Building model...\n",
      "Training...\n"
     ]
    },
    {
     "name": "stderr",
     "output_type": "stream",
     "text": [
      "/home/icesi/anaconda3/lib/python3.6/site-packages/ipykernel_launcher.py:45: UserWarning: The `nb_epoch` argument in `fit` has been renamed `epochs`.\n"
     ]
    },
    {
     "name": "stdout",
     "output_type": "stream",
     "text": [
      "Train on 4276 samples, validate on 1070 samples\n",
      "Epoch 1/100\n",
      "4276/4276 [==============================] - 15s 4ms/step - loss: 0.7209 - acc: 0.5482 - val_loss: 0.7016 - val_acc: 0.5505\n",
      "\n",
      "Epoch 00001: val_acc improved from -inf to 0.55047, saving model to models/model_salsa.h5\n",
      "Epoch 2/100\n",
      "4276/4276 [==============================] - 4s 824us/step - loss: 0.6849 - acc: 0.5706 - val_loss: 0.6902 - val_acc: 0.5299\n",
      "\n",
      "Epoch 00002: val_acc did not improve from 0.55047\n",
      "Epoch 3/100\n",
      "4276/4276 [==============================] - 4s 826us/step - loss: 0.6835 - acc: 0.5723 - val_loss: 0.6841 - val_acc: 0.5617\n",
      "\n",
      "Epoch 00003: val_acc improved from 0.55047 to 0.56168, saving model to models/model_salsa.h5\n",
      "Epoch 4/100\n",
      "4276/4276 [==============================] - 4s 833us/step - loss: 0.6805 - acc: 0.5674 - val_loss: 0.7318 - val_acc: 0.5617\n",
      "\n",
      "Epoch 00004: val_acc did not improve from 0.56168\n",
      "Epoch 5/100\n",
      "4276/4276 [==============================] - 4s 824us/step - loss: 0.6827 - acc: 0.5669 - val_loss: 0.6965 - val_acc: 0.5617\n",
      "\n",
      "Epoch 00005: val_acc did not improve from 0.56168\n",
      "Epoch 6/100\n",
      "4276/4276 [==============================] - 4s 829us/step - loss: 0.6807 - acc: 0.5725 - val_loss: 0.6990 - val_acc: 0.5617\n",
      "\n",
      "Epoch 00006: val_acc did not improve from 0.56168\n",
      "Epoch 7/100\n",
      "4276/4276 [==============================] - 4s 837us/step - loss: 0.6818 - acc: 0.5615 - val_loss: 0.6839 - val_acc: 0.5636\n",
      "\n",
      "Epoch 00007: val_acc improved from 0.56168 to 0.56355, saving model to models/model_salsa.h5\n",
      "Epoch 8/100\n",
      "4276/4276 [==============================] - 4s 866us/step - loss: 0.6813 - acc: 0.5692 - val_loss: 0.6834 - val_acc: 0.5617\n",
      "\n",
      "Epoch 00008: val_acc did not improve from 0.56355\n",
      "Epoch 9/100\n",
      "4276/4276 [==============================] - 4s 843us/step - loss: 0.6791 - acc: 0.5737 - val_loss: 0.6841 - val_acc: 0.5617\n",
      "\n",
      "Epoch 00009: val_acc did not improve from 0.56355\n",
      "Epoch 10/100\n",
      "4276/4276 [==============================] - 4s 862us/step - loss: 0.6788 - acc: 0.5716 - val_loss: 0.6909 - val_acc: 0.5607\n",
      "\n",
      "Epoch 00010: val_acc did not improve from 0.56355\n",
      "Epoch 11/100\n",
      "4276/4276 [==============================] - 4s 837us/step - loss: 0.6822 - acc: 0.5744 - val_loss: 0.6865 - val_acc: 0.5617\n",
      "\n",
      "Epoch 00011: val_acc did not improve from 0.56355\n",
      "Epoch 12/100\n",
      "4276/4276 [==============================] - 4s 834us/step - loss: 0.6810 - acc: 0.5711 - val_loss: 0.6836 - val_acc: 0.5589\n",
      "\n",
      "Epoch 00012: val_acc did not improve from 0.56355\n",
      "Epoch 13/100\n",
      "4276/4276 [==============================] - 4s 839us/step - loss: 0.6799 - acc: 0.5725 - val_loss: 0.6961 - val_acc: 0.5093\n",
      "\n",
      "Epoch 00013: val_acc did not improve from 0.56355\n",
      "\n",
      "Epoch 00013: ReduceLROnPlateau reducing learning rate to 0.0005000000237487257.\n",
      "Epoch 14/100\n",
      "4276/4276 [==============================] - 4s 836us/step - loss: 0.6732 - acc: 0.5706 - val_loss: 0.6969 - val_acc: 0.5262\n",
      "\n",
      "Epoch 00014: val_acc did not improve from 0.56355\n",
      "Epoch 15/100\n",
      "4276/4276 [==============================] - 4s 850us/step - loss: 0.6739 - acc: 0.5870 - val_loss: 0.6902 - val_acc: 0.5336\n",
      "\n",
      "Epoch 00015: val_acc did not improve from 0.56355\n",
      "Epoch 16/100\n",
      "4276/4276 [==============================] - 4s 838us/step - loss: 0.6719 - acc: 0.5760 - val_loss: 0.6976 - val_acc: 0.5664\n",
      "\n",
      "Epoch 00016: val_acc improved from 0.56355 to 0.56636, saving model to models/model_salsa.h5\n",
      "Epoch 17/100\n",
      "4276/4276 [==============================] - 4s 836us/step - loss: 0.6718 - acc: 0.5790 - val_loss: 0.6973 - val_acc: 0.5290\n",
      "\n",
      "Epoch 00017: val_acc did not improve from 0.56636\n",
      "Epoch 18/100\n",
      "4276/4276 [==============================] - 4s 844us/step - loss: 0.6699 - acc: 0.5865 - val_loss: 0.6980 - val_acc: 0.5439\n",
      "\n",
      "Epoch 00018: val_acc did not improve from 0.56636\n",
      "Epoch 19/100\n",
      "4276/4276 [==============================] - 4s 857us/step - loss: 0.6708 - acc: 0.5755 - val_loss: 0.6859 - val_acc: 0.5561\n",
      "\n",
      "Epoch 00019: val_acc did not improve from 0.56636\n",
      "Epoch 20/100\n",
      "4276/4276 [==============================] - 4s 834us/step - loss: 0.6671 - acc: 0.5765 - val_loss: 0.6944 - val_acc: 0.5224\n",
      "\n",
      "Epoch 00020: val_acc did not improve from 0.56636\n",
      "Epoch 21/100\n",
      "4276/4276 [==============================] - 4s 842us/step - loss: 0.6686 - acc: 0.5837 - val_loss: 0.6970 - val_acc: 0.5271\n",
      "\n",
      "Epoch 00021: val_acc did not improve from 0.56636\n",
      "Epoch 22/100\n",
      "4276/4276 [==============================] - 4s 835us/step - loss: 0.6671 - acc: 0.5837 - val_loss: 0.6965 - val_acc: 0.5411\n",
      "\n",
      "Epoch 00022: val_acc did not improve from 0.56636\n",
      "Epoch 23/100\n",
      "4276/4276 [==============================] - 4s 844us/step - loss: 0.6654 - acc: 0.5926 - val_loss: 0.7152 - val_acc: 0.5411\n",
      "\n",
      "Epoch 00023: val_acc did not improve from 0.56636\n",
      "\n",
      "Epoch 00023: ReduceLROnPlateau reducing learning rate to 0.0002500000118743628.\n",
      "Epoch 24/100\n",
      "4276/4276 [==============================] - 4s 851us/step - loss: 0.6589 - acc: 0.5966 - val_loss: 0.7052 - val_acc: 0.5112\n",
      "\n",
      "Epoch 00024: val_acc did not improve from 0.56636\n",
      "Epoch 25/100\n",
      "4276/4276 [==============================] - 4s 837us/step - loss: 0.6596 - acc: 0.5996 - val_loss: 0.7167 - val_acc: 0.5318\n",
      "\n",
      "Epoch 00025: val_acc did not improve from 0.56636\n",
      "Epoch 26/100\n",
      "4276/4276 [==============================] - 4s 843us/step - loss: 0.6555 - acc: 0.5982 - val_loss: 0.7123 - val_acc: 0.5243\n",
      "\n",
      "Epoch 00026: val_acc did not improve from 0.56636\n",
      "Epoch 27/100\n",
      "4276/4276 [==============================] - 4s 838us/step - loss: 0.6559 - acc: 0.5980 - val_loss: 0.7082 - val_acc: 0.5252\n",
      "\n",
      "Epoch 00027: val_acc did not improve from 0.56636\n",
      "Epoch 28/100\n",
      "4276/4276 [==============================] - 4s 861us/step - loss: 0.6521 - acc: 0.6050 - val_loss: 0.7219 - val_acc: 0.5224\n",
      "\n",
      "Epoch 00028: val_acc did not improve from 0.56636\n",
      "Epoch 29/100\n",
      "4276/4276 [==============================] - 4s 849us/step - loss: 0.6528 - acc: 0.6048 - val_loss: 0.7169 - val_acc: 0.5131\n",
      "\n",
      "Epoch 00029: val_acc did not improve from 0.56636\n",
      "Epoch 30/100\n",
      "4276/4276 [==============================] - 4s 828us/step - loss: 0.6553 - acc: 0.5987 - val_loss: 0.8049 - val_acc: 0.5542\n",
      "\n",
      "Epoch 00030: val_acc did not improve from 0.56636\n",
      "Epoch 31/100\n",
      "4276/4276 [==============================] - 4s 836us/step - loss: 0.6502 - acc: 0.6148 - val_loss: 0.7647 - val_acc: 0.5495\n",
      "\n",
      "Epoch 00031: val_acc did not improve from 0.56636\n",
      "Epoch 32/100\n",
      "4276/4276 [==============================] - 4s 844us/step - loss: 0.6472 - acc: 0.6109 - val_loss: 0.7369 - val_acc: 0.4991\n",
      "\n",
      "Epoch 00032: val_acc did not improve from 0.56636\n",
      "Epoch 33/100\n",
      "4276/4276 [==============================] - 4s 833us/step - loss: 0.6449 - acc: 0.6211 - val_loss: 0.7341 - val_acc: 0.4860\n",
      "\n",
      "Epoch 00033: val_acc did not improve from 0.56636\n",
      "\n",
      "Epoch 00033: ReduceLROnPlateau reducing learning rate to 0.0001250000059371814.\n",
      "Epoch 34/100\n",
      "4276/4276 [==============================] - 4s 832us/step - loss: 0.6349 - acc: 0.6263 - val_loss: 0.7377 - val_acc: 0.5065\n",
      "\n",
      "Epoch 00034: val_acc did not improve from 0.56636\n",
      "Epoch 35/100\n",
      "4276/4276 [==============================] - 4s 834us/step - loss: 0.6353 - acc: 0.6289 - val_loss: 0.7339 - val_acc: 0.5178\n",
      "\n",
      "Epoch 00035: val_acc did not improve from 0.56636\n",
      "Epoch 36/100\n",
      "4276/4276 [==============================] - 4s 829us/step - loss: 0.6297 - acc: 0.6422 - val_loss: 0.7337 - val_acc: 0.5019\n",
      "\n",
      "Epoch 00036: val_acc did not improve from 0.56636\n",
      "Epoch 37/100\n",
      "4276/4276 [==============================] - 4s 852us/step - loss: 0.6215 - acc: 0.6464 - val_loss: 0.7682 - val_acc: 0.5290\n",
      "\n",
      "Epoch 00037: val_acc did not improve from 0.56636\n",
      "Epoch 38/100\n",
      "4276/4276 [==============================] - 4s 832us/step - loss: 0.6205 - acc: 0.6490 - val_loss: 0.8591 - val_acc: 0.5028\n",
      "\n",
      "Epoch 00038: val_acc did not improve from 0.56636\n",
      "Epoch 39/100\n",
      "4276/4276 [==============================] - 4s 829us/step - loss: 0.6167 - acc: 0.6506 - val_loss: 0.7928 - val_acc: 0.5561\n",
      "\n",
      "Epoch 00039: val_acc did not improve from 0.56636\n",
      "Epoch 40/100\n",
      "4276/4276 [==============================] - 4s 836us/step - loss: 0.6160 - acc: 0.6529 - val_loss: 0.7678 - val_acc: 0.5327\n",
      "\n",
      "Epoch 00040: val_acc did not improve from 0.56636\n",
      "Epoch 41/100\n",
      "4276/4276 [==============================] - 4s 846us/step - loss: 0.6118 - acc: 0.6567 - val_loss: 0.8148 - val_acc: 0.5056\n",
      "\n",
      "Epoch 00041: val_acc did not improve from 0.56636\n",
      "Epoch 42/100\n"
     ]
    },
    {
     "name": "stdout",
     "output_type": "stream",
     "text": [
      "4276/4276 [==============================] - 4s 821us/step - loss: 0.6113 - acc: 0.6560 - val_loss: 0.8699 - val_acc: 0.4916\n",
      "\n",
      "Epoch 00042: val_acc did not improve from 0.56636\n",
      "Epoch 43/100\n",
      "4276/4276 [==============================] - 4s 822us/step - loss: 0.6076 - acc: 0.6616 - val_loss: 0.9230 - val_acc: 0.4869\n",
      "\n",
      "Epoch 00043: val_acc did not improve from 0.56636\n",
      "\n",
      "Epoch 00043: ReduceLROnPlateau reducing learning rate to 6.25000029685907e-05.\n",
      "Epoch 44/100\n",
      "4276/4276 [==============================] - 4s 820us/step - loss: 0.5960 - acc: 0.6705 - val_loss: 0.8781 - val_acc: 0.5439\n",
      "\n",
      "Epoch 00044: val_acc did not improve from 0.56636\n",
      "Epoch 45/100\n",
      "4276/4276 [==============================] - 4s 820us/step - loss: 0.5875 - acc: 0.6810 - val_loss: 0.8199 - val_acc: 0.5336\n",
      "\n",
      "Epoch 00045: val_acc did not improve from 0.56636\n",
      "Epoch 46/100\n",
      "4276/4276 [==============================] - 4s 829us/step - loss: 0.5897 - acc: 0.6833 - val_loss: 0.8046 - val_acc: 0.5178\n",
      "\n",
      "Epoch 00046: val_acc did not improve from 0.56636\n",
      "Epoch 47/100\n",
      "4276/4276 [==============================] - 4s 824us/step - loss: 0.5789 - acc: 0.6939 - val_loss: 0.8678 - val_acc: 0.5140\n",
      "\n",
      "Epoch 00047: val_acc did not improve from 0.56636\n",
      "Epoch 48/100\n",
      "4276/4276 [==============================] - 4s 821us/step - loss: 0.5735 - acc: 0.6871 - val_loss: 0.8176 - val_acc: 0.5449\n",
      "\n",
      "Epoch 00048: val_acc did not improve from 0.56636\n",
      "Epoch 49/100\n",
      "4276/4276 [==============================] - 4s 821us/step - loss: 0.5774 - acc: 0.6906 - val_loss: 0.8683 - val_acc: 0.5449\n",
      "\n",
      "Epoch 00049: val_acc did not improve from 0.56636\n",
      "Epoch 50/100\n",
      "4276/4276 [==============================] - 4s 830us/step - loss: 0.5802 - acc: 0.6852 - val_loss: 0.8284 - val_acc: 0.5383\n",
      "\n",
      "Epoch 00050: val_acc did not improve from 0.56636\n",
      "Epoch 51/100\n",
      "4276/4276 [==============================] - 4s 825us/step - loss: 0.5707 - acc: 0.6990 - val_loss: 0.8153 - val_acc: 0.5243\n",
      "\n",
      "Epoch 00051: val_acc did not improve from 0.56636\n",
      "Epoch 52/100\n",
      "4276/4276 [==============================] - 4s 825us/step - loss: 0.5713 - acc: 0.6913 - val_loss: 0.8320 - val_acc: 0.5121\n",
      "\n",
      "Epoch 00052: val_acc did not improve from 0.56636\n",
      "Epoch 53/100\n",
      "4276/4276 [==============================] - 4s 821us/step - loss: 0.5738 - acc: 0.6894 - val_loss: 0.8115 - val_acc: 0.5252\n",
      "\n",
      "Epoch 00053: val_acc did not improve from 0.56636\n",
      "\n",
      "Epoch 00053: ReduceLROnPlateau reducing learning rate to 3.125000148429535e-05.\n",
      "Epoch 54/100\n",
      "4276/4276 [==============================] - 4s 824us/step - loss: 0.5578 - acc: 0.7044 - val_loss: 0.8190 - val_acc: 0.5346\n",
      "\n",
      "Epoch 00054: val_acc did not improve from 0.56636\n",
      "Epoch 55/100\n",
      "4276/4276 [==============================] - 4s 832us/step - loss: 0.5596 - acc: 0.7023 - val_loss: 0.8310 - val_acc: 0.5318\n",
      "\n",
      "Epoch 00055: val_acc did not improve from 0.56636\n",
      "Epoch 56/100\n",
      "4276/4276 [==============================] - 4s 821us/step - loss: 0.5583 - acc: 0.7028 - val_loss: 0.8301 - val_acc: 0.5308\n",
      "\n",
      "Epoch 00056: val_acc did not improve from 0.56636\n",
      "Epoch 57/100\n",
      "4276/4276 [==============================] - 4s 819us/step - loss: 0.5523 - acc: 0.7070 - val_loss: 0.8538 - val_acc: 0.5252\n",
      "\n",
      "Epoch 00057: val_acc did not improve from 0.56636\n",
      "Epoch 58/100\n",
      "4276/4276 [==============================] - 4s 824us/step - loss: 0.5583 - acc: 0.7046 - val_loss: 0.8106 - val_acc: 0.5449\n",
      "\n",
      "Epoch 00058: val_acc did not improve from 0.56636\n",
      "Epoch 59/100\n",
      "4276/4276 [==============================] - 4s 823us/step - loss: 0.5531 - acc: 0.7044 - val_loss: 0.8550 - val_acc: 0.5243\n",
      "\n",
      "Epoch 00059: val_acc did not improve from 0.56636\n",
      "Epoch 60/100\n",
      "4276/4276 [==============================] - 4s 824us/step - loss: 0.5512 - acc: 0.7046 - val_loss: 0.8299 - val_acc: 0.5402\n",
      "\n",
      "Epoch 00060: val_acc did not improve from 0.56636\n",
      "Epoch 61/100\n",
      "4276/4276 [==============================] - 4s 821us/step - loss: 0.5486 - acc: 0.7168 - val_loss: 0.8690 - val_acc: 0.5243\n",
      "\n",
      "Epoch 00061: val_acc did not improve from 0.56636\n",
      "Epoch 62/100\n",
      "4276/4276 [==============================] - 4s 824us/step - loss: 0.5528 - acc: 0.7116 - val_loss: 0.8396 - val_acc: 0.5234\n",
      "\n",
      "Epoch 00062: val_acc did not improve from 0.56636\n",
      "Epoch 63/100\n",
      "4276/4276 [==============================] - 4s 826us/step - loss: 0.5481 - acc: 0.7187 - val_loss: 0.8547 - val_acc: 0.5299\n",
      "\n",
      "Epoch 00063: val_acc did not improve from 0.56636\n",
      "\n",
      "Epoch 00063: ReduceLROnPlateau reducing learning rate to 1.5625000742147677e-05.\n",
      "Epoch 64/100\n",
      "4276/4276 [==============================] - 4s 839us/step - loss: 0.5424 - acc: 0.7208 - val_loss: 0.8349 - val_acc: 0.5393\n",
      "\n",
      "Epoch 00064: val_acc did not improve from 0.56636\n",
      "Epoch 65/100\n",
      "4276/4276 [==============================] - 4s 828us/step - loss: 0.5402 - acc: 0.7208 - val_loss: 0.8502 - val_acc: 0.5327\n",
      "\n",
      "Epoch 00065: val_acc did not improve from 0.56636\n",
      "Epoch 66/100\n",
      "4276/4276 [==============================] - 4s 825us/step - loss: 0.5437 - acc: 0.7182 - val_loss: 0.8472 - val_acc: 0.5383\n",
      "\n",
      "Epoch 00066: val_acc did not improve from 0.56636\n",
      "Epoch 67/100\n",
      "4276/4276 [==============================] - 4s 832us/step - loss: 0.5473 - acc: 0.7147 - val_loss: 0.8545 - val_acc: 0.5290\n",
      "\n",
      "Epoch 00067: val_acc did not improve from 0.56636\n",
      "Epoch 68/100\n",
      "4276/4276 [==============================] - 4s 834us/step - loss: 0.5363 - acc: 0.7278 - val_loss: 0.8461 - val_acc: 0.5280\n",
      "\n",
      "Epoch 00068: val_acc did not improve from 0.56636\n",
      "Epoch 69/100\n",
      "4276/4276 [==============================] - 4s 832us/step - loss: 0.5407 - acc: 0.7219 - val_loss: 0.8402 - val_acc: 0.5383\n",
      "\n",
      "Epoch 00069: val_acc did not improve from 0.56636\n",
      "Epoch 70/100\n",
      "4276/4276 [==============================] - 4s 826us/step - loss: 0.5409 - acc: 0.7261 - val_loss: 0.8621 - val_acc: 0.5252\n",
      "\n",
      "Epoch 00070: val_acc did not improve from 0.56636\n",
      "Epoch 71/100\n",
      "4276/4276 [==============================] - 4s 836us/step - loss: 0.5435 - acc: 0.7259 - val_loss: 0.8751 - val_acc: 0.5215\n",
      "\n",
      "Epoch 00071: val_acc did not improve from 0.56636\n",
      "Epoch 72/100\n",
      "4276/4276 [==============================] - 4s 829us/step - loss: 0.5334 - acc: 0.7287 - val_loss: 0.8462 - val_acc: 0.5411\n",
      "\n",
      "Epoch 00072: val_acc did not improve from 0.56636\n",
      "Epoch 73/100\n",
      "4276/4276 [==============================] - 4s 845us/step - loss: 0.5361 - acc: 0.7201 - val_loss: 0.8583 - val_acc: 0.5383\n",
      "\n",
      "Epoch 00073: val_acc did not improve from 0.56636\n",
      "\n",
      "Epoch 00073: ReduceLROnPlateau reducing learning rate to 7.812500371073838e-06.\n",
      "Epoch 74/100\n",
      "4276/4276 [==============================] - 4s 828us/step - loss: 0.5310 - acc: 0.7278 - val_loss: 0.8576 - val_acc: 0.5308\n",
      "\n",
      "Epoch 00074: val_acc did not improve from 0.56636\n",
      "Epoch 75/100\n",
      "4276/4276 [==============================] - 4s 826us/step - loss: 0.5345 - acc: 0.7360 - val_loss: 0.8576 - val_acc: 0.5449\n",
      "\n",
      "Epoch 00075: val_acc did not improve from 0.56636\n",
      "Epoch 76/100\n",
      "4276/4276 [==============================] - 4s 826us/step - loss: 0.5332 - acc: 0.7259 - val_loss: 0.8519 - val_acc: 0.5364\n",
      "\n",
      "Epoch 00076: val_acc did not improve from 0.56636\n",
      "Epoch 77/100\n",
      "4276/4276 [==============================] - 4s 837us/step - loss: 0.5293 - acc: 0.7304 - val_loss: 0.8532 - val_acc: 0.5411\n",
      "\n",
      "Epoch 00077: val_acc did not improve from 0.56636\n",
      "Epoch 78/100\n",
      "4276/4276 [==============================] - 4s 843us/step - loss: 0.5337 - acc: 0.7273 - val_loss: 0.8640 - val_acc: 0.5355\n",
      "\n",
      "Epoch 00078: val_acc did not improve from 0.56636\n",
      "Epoch 79/100\n",
      "4276/4276 [==============================] - 4s 829us/step - loss: 0.5316 - acc: 0.7250 - val_loss: 0.8734 - val_acc: 0.5449\n",
      "\n",
      "Epoch 00079: val_acc did not improve from 0.56636\n",
      "Epoch 80/100\n",
      "4276/4276 [==============================] - 4s 826us/step - loss: 0.5293 - acc: 0.7320 - val_loss: 0.8759 - val_acc: 0.5411\n",
      "\n",
      "Epoch 00080: val_acc did not improve from 0.56636\n",
      "Epoch 81/100\n",
      "4276/4276 [==============================] - 4s 828us/step - loss: 0.5288 - acc: 0.7322 - val_loss: 0.8654 - val_acc: 0.5374\n",
      "\n",
      "Epoch 00081: val_acc did not improve from 0.56636\n",
      "Epoch 82/100\n",
      "4276/4276 [==============================] - 4s 844us/step - loss: 0.5312 - acc: 0.7327 - val_loss: 0.8613 - val_acc: 0.5421\n",
      "\n",
      "Epoch 00082: val_acc did not improve from 0.56636\n",
      "Epoch 83/100\n",
      "4276/4276 [==============================] - 4s 825us/step - loss: 0.5326 - acc: 0.7334 - val_loss: 0.8647 - val_acc: 0.5402\n"
     ]
    },
    {
     "name": "stdout",
     "output_type": "stream",
     "text": [
      "\n",
      "Epoch 00083: val_acc did not improve from 0.56636\n",
      "\n",
      "Epoch 00083: ReduceLROnPlateau reducing learning rate to 3.906250185536919e-06.\n",
      "Epoch 84/100\n",
      "4276/4276 [==============================] - 4s 827us/step - loss: 0.5257 - acc: 0.7346 - val_loss: 0.8629 - val_acc: 0.5402\n",
      "\n",
      "Epoch 00084: val_acc did not improve from 0.56636\n",
      "Epoch 85/100\n",
      "4276/4276 [==============================] - 4s 824us/step - loss: 0.5288 - acc: 0.7308 - val_loss: 0.8541 - val_acc: 0.5449\n",
      "\n",
      "Epoch 00085: val_acc did not improve from 0.56636\n",
      "Epoch 86/100\n",
      "4276/4276 [==============================] - 4s 830us/step - loss: 0.5236 - acc: 0.7362 - val_loss: 0.8639 - val_acc: 0.5393\n",
      "\n",
      "Epoch 00086: val_acc did not improve from 0.56636\n",
      "Epoch 87/100\n",
      "4276/4276 [==============================] - 4s 844us/step - loss: 0.5318 - acc: 0.7250 - val_loss: 0.8643 - val_acc: 0.5411\n",
      "\n",
      "Epoch 00087: val_acc did not improve from 0.56636\n",
      "Epoch 88/100\n",
      "4276/4276 [==============================] - 4s 828us/step - loss: 0.5282 - acc: 0.7285 - val_loss: 0.8525 - val_acc: 0.5430\n",
      "\n",
      "Epoch 00088: val_acc did not improve from 0.56636\n",
      "Epoch 89/100\n",
      "4276/4276 [==============================] - 4s 833us/step - loss: 0.5298 - acc: 0.7313 - val_loss: 0.8725 - val_acc: 0.5374\n",
      "\n",
      "Epoch 00089: val_acc did not improve from 0.56636\n",
      "Epoch 90/100\n",
      "4276/4276 [==============================] - 4s 826us/step - loss: 0.5350 - acc: 0.7247 - val_loss: 0.8718 - val_acc: 0.5374\n",
      "\n",
      "Epoch 00090: val_acc did not improve from 0.56636\n",
      "Epoch 91/100\n",
      "4276/4276 [==============================] - 4s 837us/step - loss: 0.5311 - acc: 0.7273 - val_loss: 0.8479 - val_acc: 0.5486\n",
      "\n",
      "Epoch 00091: val_acc did not improve from 0.56636\n",
      "Epoch 92/100\n",
      "4276/4276 [==============================] - 4s 828us/step - loss: 0.5322 - acc: 0.7236 - val_loss: 0.8645 - val_acc: 0.5411\n",
      "\n",
      "Epoch 00092: val_acc did not improve from 0.56636\n",
      "Epoch 93/100\n",
      "4276/4276 [==============================] - 4s 824us/step - loss: 0.5334 - acc: 0.7299 - val_loss: 0.8701 - val_acc: 0.5402\n",
      "\n",
      "Epoch 00093: val_acc did not improve from 0.56636\n",
      "\n",
      "Epoch 00093: ReduceLROnPlateau reducing learning rate to 1.9531250927684596e-06.\n",
      "Epoch 94/100\n",
      "4276/4276 [==============================] - 4s 827us/step - loss: 0.5288 - acc: 0.7343 - val_loss: 0.8663 - val_acc: 0.5393\n",
      "\n",
      "Epoch 00094: val_acc did not improve from 0.56636\n",
      "Epoch 95/100\n",
      "4276/4276 [==============================] - 4s 853us/step - loss: 0.5292 - acc: 0.7290 - val_loss: 0.8703 - val_acc: 0.5467\n",
      "\n",
      "Epoch 00095: val_acc did not improve from 0.56636\n",
      "Epoch 96/100\n",
      "4276/4276 [==============================] - 4s 840us/step - loss: 0.5274 - acc: 0.7332 - val_loss: 0.8528 - val_acc: 0.5421\n",
      "\n",
      "Epoch 00096: val_acc did not improve from 0.56636\n",
      "Epoch 97/100\n",
      "4276/4276 [==============================] - 4s 840us/step - loss: 0.5202 - acc: 0.7376 - val_loss: 0.8400 - val_acc: 0.5421\n",
      "\n",
      "Epoch 00097: val_acc did not improve from 0.56636\n",
      "Epoch 98/100\n",
      "4276/4276 [==============================] - 4s 826us/step - loss: 0.5314 - acc: 0.7238 - val_loss: 0.8742 - val_acc: 0.5383\n",
      "\n",
      "Epoch 00098: val_acc did not improve from 0.56636\n",
      "Epoch 99/100\n",
      "4276/4276 [==============================] - 4s 833us/step - loss: 0.5262 - acc: 0.7318 - val_loss: 0.8640 - val_acc: 0.5421\n",
      "\n",
      "Epoch 00099: val_acc did not improve from 0.56636\n",
      "Epoch 100/100\n",
      "4276/4276 [==============================] - 4s 827us/step - loss: 0.5261 - acc: 0.7392 - val_loss: 0.8661 - val_acc: 0.5439\n",
      "\n",
      "Epoch 00100: val_acc did not improve from 0.56636\n"
     ]
    }
   ],
   "source": [
    "print('Building model...')\n",
    "\n",
    "n_features = x_train.shape[2]\n",
    "input_shape = (None, n_features)\n",
    "model_input = layers.Input(input_shape, name='input')\n",
    "layer = model_input\n",
    "for i in range(3):\n",
    "    # second convolutional layer names are used by extract_filters.py\n",
    "    layer = layers.Convolution1D(\n",
    "            filters=256,\n",
    "            kernel_size=5,\n",
    "            name='convolution_' + str(i + 1)\n",
    "        )(layer)\n",
    "    layer = layers.BatchNormalization(momentum=0.9)(layer)\n",
    "    layer = layers.Activation('relu')(layer)\n",
    "    layer = layers.MaxPooling1D(2)(layer)\n",
    "    layer = layers.Dropout(0.5)(layer)\n",
    "\n",
    "layer = layers.TimeDistributed(layers.Dense(NUM_GENRES))(layer)\n",
    "time_distributed_merge_layer = layers.Lambda(\n",
    "        function=lambda x: backend.mean(x, axis=1),\n",
    "        output_shape=lambda shape: (shape[0],) + shape[2:],\n",
    "        name='output_merged'\n",
    "    )\n",
    "layer = time_distributed_merge_layer(layer)\n",
    "layer = layers.Activation('softmax', name='output_realtime')(layer)\n",
    "model_output = layer\n",
    "model = models.Model(model_input, model_output)\n",
    "opt = optimizers.Adam(lr=0.001)\n",
    "model.compile(\n",
    "        loss='categorical_crossentropy',\n",
    "        optimizer=opt,\n",
    "        metrics=['accuracy']\n",
    "    )\n",
    "\n",
    "print('Training...')\n",
    "history = model.fit(\n",
    "    x_train, y_train, batch_size=32, nb_epoch=100,\n",
    "    validation_data=(x_test, y_test), verbose=1, callbacks=[\n",
    "        keras.callbacks.ModelCheckpoint(\n",
    "            'models/model_salsa.h5', save_best_only=True, monitor='val_acc', verbose=1\n",
    "        ),\n",
    "        keras.callbacks.ReduceLROnPlateau(\n",
    "            monitor='val_acc', factor=0.5, patience=10, min_delta=0.01,\n",
    "            verbose=1\n",
    "        )\n",
    "    ]\n",
    ")"
   ]
  },
  {
   "cell_type": "code",
   "execution_count": 9,
   "metadata": {},
   "outputs": [
    {
     "name": "stdout",
     "output_type": "stream",
     "text": [
      "range(0, 100)\n"
     ]
    },
    {
     "data": {
      "image/png": "[encoded data removed]",
      "text/plain": [
       "<Figure size 432x288 with 1 Axes>"
      ]
     },
     "metadata": {
      "needs_background": "light"
     },
     "output_type": "display_data"
    },
    {
     "data": {
      "image/png": "[encoded data removed]",
      "text/plain": [
       "<Figure size 432x288 with 1 Axes>"
      ]
     },
     "metadata": {
      "needs_background": "light"
     },
     "output_type": "display_data"
    }
   ],
   "source": [
    "import matplotlib.pyplot as plt\n",
    "\n",
    "acc = history.history['acc']\n",
    "val_acc = history.history['val_acc']\n",
    "loss = history.history['loss']\n",
    "val_loss = history.history['val_loss']\n",
    "\n",
    "epochs = range(len(acc))\n",
    "\n",
    "print(epochs)\n",
    "\n",
    "plt.plot(epochs, acc, 'bo', label='Training acc')\n",
    "plt.plot(epochs, val_acc, 'b', label='Validation acc')\n",
    "plt.title('Training and validation accuracy')\n",
    "plt.legend()\n",
    "plt.show()\n",
    "\n",
    "plt.plot(epochs, loss, 'bo', label='Training loss')\n",
    "plt.plot(epochs, val_loss, 'b', label='Validation loss')\n",
    "plt.title('Training and validation loss')\n",
    "plt.legend()\n",
    "plt.show()"
   ]
  },
  {
   "cell_type": "markdown",
   "metadata": {},
   "source": [
    "Maximum validation accuracy in 100 epochs: 0.17715"
   ]
  },
  {
   "cell_type": "code",
   "execution_count": null,
   "metadata": {},
   "outputs": [],
   "source": [
    "model = models.Sequential()\n",
    "model.add(layers.Convolution1D(256, 5, padding='same',kernel_regularizer=regularizers.l2(0.02),\n",
    "                        input_shape=(x_train.shape[1], x_train.shape[2])))\n",
    "model.add(layers.BatchNormalization(momentum=0.9))\n",
    "model.add(layers.Activation('relu'))\n",
    "model.add(layers.MaxPooling1D(2))\n",
    "model.add(layers.Convolution1D(256, 5, padding='same',kernel_regularizer=regularizers.l2(0.02)))\n",
    "model.add(layers.BatchNormalization(momentum=0.9))\n",
    "model.add(layers.Activation('relu'))\n",
    "model.add(layers.MaxPooling1D(2))\n",
    "model.add(layers.Convolution1D(256, 5, padding='same',kernel_regularizer=regularizers.l2(0.02)))\n",
    "model.add(layers.BatchNormalization(momentum=0.9))\n",
    "model.add(layers.Activation('relu'))\n",
    "model.add(layers.MaxPooling1D(2))\n",
    "model.add(layers.Dropout(0.2))\n",
    "model.add(layers.Convolution1D(256, 5, padding='same',kernel_regularizer=regularizers.l2(0.02)))\n",
    "model.add(layers.BatchNormalization(momentum=0.9))\n",
    "model.add(layers.Activation('relu'))\n",
    "model.add(layers.MaxPooling1D(2))\n",
    "model.add(layers.Dropout(0.2))\n",
    "model.add(layers.TimeDistributed(layers.Dense(128, activation='relu')))\n",
    "model.add(layers.Dropout(0.75))\n",
    "model.add(layers.TimeDistributed(layers.Dense(NUM_GENRES, activation='sigmoid')))\n",
    "time_distributed_merge_layer = layers.Lambda(\n",
    "            function=lambda x: backend.mean(x, axis=1),\n",
    "            output_shape=lambda shape: (shape[0],) + shape[2:],\n",
    "            name='output_merged'\n",
    "        )\n",
    "model.add(time_distributed_merge_layer)"
   ]
  },
  {
   "cell_type": "code",
   "execution_count": 15,
   "metadata": {
    "collapsed": true
   },
   "outputs": [
    {
     "name": "stdout",
     "output_type": "stream",
     "text": [
      "_________________________________________________________________\n",
      "Layer (type)                 Output Shape              Param #   \n",
      "=================================================================\n",
      "conv1d_5 (Conv1D)            (None, 862, 256)          164096    \n",
      "_________________________________________________________________\n",
      "batch_normalization_8 (Batch (None, 862, 256)          1024      \n",
      "_________________________________________________________________\n",
      "activation_8 (Activation)    (None, 862, 256)          0         \n",
      "_________________________________________________________________\n",
      "max_pooling1d_8 (MaxPooling1 (None, 431, 256)          0         \n",
      "_________________________________________________________________\n",
      "conv1d_6 (Conv1D)            (None, 431, 256)          327936    \n",
      "_________________________________________________________________\n",
      "batch_normalization_9 (Batch (None, 431, 256)          1024      \n",
      "_________________________________________________________________\n",
      "activation_9 (Activation)    (None, 431, 256)          0         \n",
      "_________________________________________________________________\n",
      "max_pooling1d_9 (MaxPooling1 (None, 215, 256)          0         \n",
      "_________________________________________________________________\n",
      "conv1d_7 (Conv1D)            (None, 215, 256)          327936    \n",
      "_________________________________________________________________\n",
      "batch_normalization_10 (Batc (None, 215, 256)          1024      \n",
      "_________________________________________________________________\n",
      "activation_10 (Activation)   (None, 215, 256)          0         \n",
      "_________________________________________________________________\n",
      "max_pooling1d_10 (MaxPooling (None, 107, 256)          0         \n",
      "_________________________________________________________________\n",
      "dropout_11 (Dropout)         (None, 107, 256)          0         \n",
      "_________________________________________________________________\n",
      "conv1d_8 (Conv1D)            (None, 107, 256)          327936    \n",
      "_________________________________________________________________\n",
      "batch_normalization_11 (Batc (None, 107, 256)          1024      \n",
      "_________________________________________________________________\n",
      "activation_11 (Activation)   (None, 107, 256)          0         \n",
      "_________________________________________________________________\n",
      "max_pooling1d_11 (MaxPooling (None, 53, 256)           0         \n",
      "_________________________________________________________________\n",
      "dropout_12 (Dropout)         (None, 53, 256)           0         \n",
      "_________________________________________________________________\n",
      "time_distributed_4 (TimeDist (None, 53, 128)           32896     \n",
      "_________________________________________________________________\n",
      "dropout_13 (Dropout)         (None, 53, 128)           0         \n",
      "_________________________________________________________________\n",
      "time_distributed_5 (TimeDist (None, 53, 6)             774       \n",
      "_________________________________________________________________\n",
      "output_merged (Lambda)       (None, 6)                 0         \n",
      "=================================================================\n",
      "Total params: 1,185,670\n",
      "Trainable params: 1,183,622\n",
      "Non-trainable params: 2,048\n",
      "_________________________________________________________________\n"
     ]
    }
   ],
   "source": [
    "model.summary()"
   ]
  },
  {
   "cell_type": "code",
   "execution_count": 19,
   "metadata": {
    "scrolled": true
   },
   "outputs": [
    {
     "name": "stdout",
     "output_type": "stream",
     "text": [
      "Train on 3420 samples, validate on 856 samples\n",
      "Epoch 1/100\n"
     ]
    },
    {
     "ename": "ResourceExhaustedError",
     "evalue": "OOM when allocating tensor with shape[64,431,64,128] and type float on /job:localhost/replica:0/task:0/device:GPU:0 by allocator GPU_0_bfc\n\t [[Node: training_4/Adam/gradients/zeros_11-0-1-TransposeNCHWToNHWC-LayoutOptimizer = Transpose[T=DT_FLOAT, Tperm=DT_INT32, _device=\"/job:localhost/replica:0/task:0/device:GPU:0\"](training_4/Adam/gradients/zeros_11, PermConstNCHWToNHWC-LayoutOptimizer)]]\nHint: If you want to see a list of allocated tensors when OOM happens, add report_tensor_allocations_upon_oom to RunOptions for current allocation info.\n\n\t [[Node: metrics_4/acc/Mean/_1343 = _Recv[client_terminated=false, recv_device=\"/job:localhost/replica:0/task:0/device:CPU:0\", send_device=\"/job:localhost/replica:0/task:0/device:GPU:0\", send_device_incarnation=1, tensor_name=\"edge_1676_metrics_4/acc/Mean\", tensor_type=DT_FLOAT, _device=\"/job:localhost/replica:0/task:0/device:CPU:0\"]()]]\nHint: If you want to see a list of allocated tensors when OOM happens, add report_tensor_allocations_upon_oom to RunOptions for current allocation info.\n",
     "output_type": "error",
     "traceback": [
      "\u001b[0;31m---------------------------------------------------------------------------\u001b[0m",
      "\u001b[0;31mResourceExhaustedError\u001b[0m                    Traceback (most recent call last)",
      "\u001b[0;32m<ipython-input-19-e381c7a1e071>\u001b[0m in \u001b[0;36m<module>\u001b[0;34m()\u001b[0m\n\u001b[1;32m      3\u001b[0m               metrics=['acc'])\n\u001b[1;32m      4\u001b[0m \u001b[0;34m\u001b[0m\u001b[0m\n\u001b[0;32m----> 5\u001b[0;31m \u001b[0mhistory\u001b[0m \u001b[0;34m=\u001b[0m \u001b[0mmodel\u001b[0m\u001b[0;34m.\u001b[0m\u001b[0mfit\u001b[0m\u001b[0;34m(\u001b[0m\u001b[0mx_train\u001b[0m\u001b[0;34m,\u001b[0m \u001b[0my_train\u001b[0m\u001b[0;34m,\u001b[0m \u001b[0mepochs\u001b[0m\u001b[0;34m=\u001b[0m\u001b[0;36m100\u001b[0m\u001b[0;34m,\u001b[0m \u001b[0mbatch_size\u001b[0m\u001b[0;34m=\u001b[0m\u001b[0;36m64\u001b[0m\u001b[0;34m,\u001b[0m \u001b[0mvalidation_split\u001b[0m\u001b[0;34m=\u001b[0m\u001b[0;36m0.2\u001b[0m\u001b[0;34m)\u001b[0m\u001b[0;34m\u001b[0m\u001b[0m\n\u001b[0m",
      "\u001b[0;32m~/anaconda3/lib/python3.6/site-packages/keras/engine/training.py\u001b[0m in \u001b[0;36mfit\u001b[0;34m(self, x, y, batch_size, epochs, verbose, callbacks, validation_split, validation_data, shuffle, class_weight, sample_weight, initial_epoch, steps_per_epoch, validation_steps, **kwargs)\u001b[0m\n\u001b[1;32m   1035\u001b[0m                                         \u001b[0minitial_epoch\u001b[0m\u001b[0;34m=\u001b[0m\u001b[0minitial_epoch\u001b[0m\u001b[0;34m,\u001b[0m\u001b[0;34m\u001b[0m\u001b[0m\n\u001b[1;32m   1036\u001b[0m                                         \u001b[0msteps_per_epoch\u001b[0m\u001b[0;34m=\u001b[0m\u001b[0msteps_per_epoch\u001b[0m\u001b[0;34m,\u001b[0m\u001b[0;34m\u001b[0m\u001b[0m\n\u001b[0;32m-> 1037\u001b[0;31m                                         validation_steps=validation_steps)\n\u001b[0m\u001b[1;32m   1038\u001b[0m \u001b[0;34m\u001b[0m\u001b[0m\n\u001b[1;32m   1039\u001b[0m     def evaluate(self, x=None, y=None,\n",
      "\u001b[0;32m~/anaconda3/lib/python3.6/site-packages/keras/engine/training_arrays.py\u001b[0m in \u001b[0;36mfit_loop\u001b[0;34m(model, f, ins, out_labels, batch_size, epochs, verbose, callbacks, val_f, val_ins, shuffle, callback_metrics, initial_epoch, steps_per_epoch, validation_steps)\u001b[0m\n\u001b[1;32m    197\u001b[0m                     \u001b[0mins_batch\u001b[0m\u001b[0;34m[\u001b[0m\u001b[0mi\u001b[0m\u001b[0;34m]\u001b[0m \u001b[0;34m=\u001b[0m \u001b[0mins_batch\u001b[0m\u001b[0;34m[\u001b[0m\u001b[0mi\u001b[0m\u001b[0;34m]\u001b[0m\u001b[0;34m.\u001b[0m\u001b[0mtoarray\u001b[0m\u001b[0;34m(\u001b[0m\u001b[0;34m)\u001b[0m\u001b[0;34m\u001b[0m\u001b[0m\n\u001b[1;32m    198\u001b[0m \u001b[0;34m\u001b[0m\u001b[0m\n\u001b[0;32m--> 199\u001b[0;31m                 \u001b[0mouts\u001b[0m \u001b[0;34m=\u001b[0m \u001b[0mf\u001b[0m\u001b[0;34m(\u001b[0m\u001b[0mins_batch\u001b[0m\u001b[0;34m)\u001b[0m\u001b[0;34m\u001b[0m\u001b[0m\n\u001b[0m\u001b[1;32m    200\u001b[0m                 \u001b[0mouts\u001b[0m \u001b[0;34m=\u001b[0m \u001b[0mto_list\u001b[0m\u001b[0;34m(\u001b[0m\u001b[0mouts\u001b[0m\u001b[0;34m)\u001b[0m\u001b[0;34m\u001b[0m\u001b[0m\n\u001b[1;32m    201\u001b[0m                 \u001b[0;32mfor\u001b[0m \u001b[0ml\u001b[0m\u001b[0;34m,\u001b[0m \u001b[0mo\u001b[0m \u001b[0;32min\u001b[0m \u001b[0mzip\u001b[0m\u001b[0;34m(\u001b[0m\u001b[0mout_labels\u001b[0m\u001b[0;34m,\u001b[0m \u001b[0mouts\u001b[0m\u001b[0;34m)\u001b[0m\u001b[0;34m:\u001b[0m\u001b[0;34m\u001b[0m\u001b[0m\n",
      "\u001b[0;32m~/anaconda3/lib/python3.6/site-packages/keras/backend/tensorflow_backend.py\u001b[0m in \u001b[0;36m__call__\u001b[0;34m(self, inputs)\u001b[0m\n\u001b[1;32m   2664\u001b[0m                 \u001b[0;32mreturn\u001b[0m \u001b[0mself\u001b[0m\u001b[0;34m.\u001b[0m\u001b[0m_legacy_call\u001b[0m\u001b[0;34m(\u001b[0m\u001b[0minputs\u001b[0m\u001b[0;34m)\u001b[0m\u001b[0;34m\u001b[0m\u001b[0m\n\u001b[1;32m   2665\u001b[0m \u001b[0;34m\u001b[0m\u001b[0m\n\u001b[0;32m-> 2666\u001b[0;31m             \u001b[0;32mreturn\u001b[0m \u001b[0mself\u001b[0m\u001b[0;34m.\u001b[0m\u001b[0m_call\u001b[0m\u001b[0;34m(\u001b[0m\u001b[0minputs\u001b[0m\u001b[0;34m)\u001b[0m\u001b[0;34m\u001b[0m\u001b[0m\n\u001b[0m\u001b[1;32m   2667\u001b[0m         \u001b[0;32melse\u001b[0m\u001b[0;34m:\u001b[0m\u001b[0;34m\u001b[0m\u001b[0m\n\u001b[1;32m   2668\u001b[0m             \u001b[0;32mif\u001b[0m \u001b[0mpy_any\u001b[0m\u001b[0;34m(\u001b[0m\u001b[0mis_tensor\u001b[0m\u001b[0;34m(\u001b[0m\u001b[0mx\u001b[0m\u001b[0;34m)\u001b[0m \u001b[0;32mfor\u001b[0m \u001b[0mx\u001b[0m \u001b[0;32min\u001b[0m \u001b[0minputs\u001b[0m\u001b[0;34m)\u001b[0m\u001b[0;34m:\u001b[0m\u001b[0;34m\u001b[0m\u001b[0m\n",
      "\u001b[0;32m~/anaconda3/lib/python3.6/site-packages/keras/backend/tensorflow_backend.py\u001b[0m in \u001b[0;36m_call\u001b[0;34m(self, inputs)\u001b[0m\n\u001b[1;32m   2634\u001b[0m                                 \u001b[0msymbol_vals\u001b[0m\u001b[0;34m,\u001b[0m\u001b[0;34m\u001b[0m\u001b[0m\n\u001b[1;32m   2635\u001b[0m                                 session)\n\u001b[0;32m-> 2636\u001b[0;31m         \u001b[0mfetched\u001b[0m \u001b[0;34m=\u001b[0m \u001b[0mself\u001b[0m\u001b[0;34m.\u001b[0m\u001b[0m_callable_fn\u001b[0m\u001b[0;34m(\u001b[0m\u001b[0;34m*\u001b[0m\u001b[0marray_vals\u001b[0m\u001b[0;34m)\u001b[0m\u001b[0;34m\u001b[0m\u001b[0m\n\u001b[0m\u001b[1;32m   2637\u001b[0m         \u001b[0;32mreturn\u001b[0m \u001b[0mfetched\u001b[0m\u001b[0;34m[\u001b[0m\u001b[0;34m:\u001b[0m\u001b[0mlen\u001b[0m\u001b[0;34m(\u001b[0m\u001b[0mself\u001b[0m\u001b[0;34m.\u001b[0m\u001b[0moutputs\u001b[0m\u001b[0;34m)\u001b[0m\u001b[0;34m]\u001b[0m\u001b[0;34m\u001b[0m\u001b[0m\n\u001b[1;32m   2638\u001b[0m \u001b[0;34m\u001b[0m\u001b[0m\n",
      "\u001b[0;32m~/anaconda3/lib/python3.6/site-packages/tensorflow/python/client/session.py\u001b[0m in \u001b[0;36m__call__\u001b[0;34m(self, *args)\u001b[0m\n\u001b[1;32m   1452\u001b[0m         \u001b[0;32melse\u001b[0m\u001b[0;34m:\u001b[0m\u001b[0;34m\u001b[0m\u001b[0m\n\u001b[1;32m   1453\u001b[0m           return tf_session.TF_DeprecatedSessionRunCallable(\n\u001b[0;32m-> 1454\u001b[0;31m               self._session._session, self._handle, args, status, None)\n\u001b[0m\u001b[1;32m   1455\u001b[0m \u001b[0;34m\u001b[0m\u001b[0m\n\u001b[1;32m   1456\u001b[0m     \u001b[0;32mdef\u001b[0m \u001b[0m__del__\u001b[0m\u001b[0;34m(\u001b[0m\u001b[0mself\u001b[0m\u001b[0;34m)\u001b[0m\u001b[0;34m:\u001b[0m\u001b[0;34m\u001b[0m\u001b[0m\n",
      "\u001b[0;32m~/anaconda3/lib/python3.6/site-packages/tensorflow/python/framework/errors_impl.py\u001b[0m in \u001b[0;36m__exit__\u001b[0;34m(self, type_arg, value_arg, traceback_arg)\u001b[0m\n\u001b[1;32m    517\u001b[0m             \u001b[0;32mNone\u001b[0m\u001b[0;34m,\u001b[0m \u001b[0;32mNone\u001b[0m\u001b[0;34m,\u001b[0m\u001b[0;34m\u001b[0m\u001b[0m\n\u001b[1;32m    518\u001b[0m             \u001b[0mcompat\u001b[0m\u001b[0;34m.\u001b[0m\u001b[0mas_text\u001b[0m\u001b[0;34m(\u001b[0m\u001b[0mc_api\u001b[0m\u001b[0;34m.\u001b[0m\u001b[0mTF_Message\u001b[0m\u001b[0;34m(\u001b[0m\u001b[0mself\u001b[0m\u001b[0;34m.\u001b[0m\u001b[0mstatus\u001b[0m\u001b[0;34m.\u001b[0m\u001b[0mstatus\u001b[0m\u001b[0;34m)\u001b[0m\u001b[0;34m)\u001b[0m\u001b[0;34m,\u001b[0m\u001b[0;34m\u001b[0m\u001b[0m\n\u001b[0;32m--> 519\u001b[0;31m             c_api.TF_GetCode(self.status.status))\n\u001b[0m\u001b[1;32m    520\u001b[0m     \u001b[0;31m# Delete the underlying status object from memory otherwise it stays alive\u001b[0m\u001b[0;34m\u001b[0m\u001b[0;34m\u001b[0m\u001b[0m\n\u001b[1;32m    521\u001b[0m     \u001b[0;31m# as there is a reference to status from this from the traceback due to\u001b[0m\u001b[0;34m\u001b[0m\u001b[0;34m\u001b[0m\u001b[0m\n",
      "\u001b[0;31mResourceExhaustedError\u001b[0m: OOM when allocating tensor with shape[64,431,64,128] and type float on /job:localhost/replica:0/task:0/device:GPU:0 by allocator GPU_0_bfc\n\t [[Node: training_4/Adam/gradients/zeros_11-0-1-TransposeNCHWToNHWC-LayoutOptimizer = Transpose[T=DT_FLOAT, Tperm=DT_INT32, _device=\"/job:localhost/replica:0/task:0/device:GPU:0\"](training_4/Adam/gradients/zeros_11, PermConstNCHWToNHWC-LayoutOptimizer)]]\nHint: If you want to see a list of allocated tensors when OOM happens, add report_tensor_allocations_upon_oom to RunOptions for current allocation info.\n\n\t [[Node: metrics_4/acc/Mean/_1343 = _Recv[client_terminated=false, recv_device=\"/job:localhost/replica:0/task:0/device:CPU:0\", send_device=\"/job:localhost/replica:0/task:0/device:GPU:0\", send_device_incarnation=1, tensor_name=\"edge_1676_metrics_4/acc/Mean\", tensor_type=DT_FLOAT, _device=\"/job:localhost/replica:0/task:0/device:CPU:0\"]()]]\nHint: If you want to see a list of allocated tensors when OOM happens, add report_tensor_allocations_upon_oom to RunOptions for current allocation info.\n"
     ]
    }
   ],
   "source": [
    "model.compile(loss='categorical_crossentropy',\n",
    "              optimizer=optimizers.Adam(lr=1e-4),\n",
    "              metrics=['acc'])\n",
    "\n",
    "history = model.fit(x_train, y_train, epochs=100, batch_size=64, validation_split=0.2)"
   ]
  },
  {
   "cell_type": "code",
   "execution_count": 14,
   "metadata": {},
   "outputs": [
    {
     "name": "stdout",
     "output_type": "stream",
     "text": [
      "range(0, 100)\n"
     ]
    },
    {
     "data": {
      "image/png": "[encoded data removed]",
      "text/plain": [
       "<Figure size 432x288 with 1 Axes>"
      ]
     },
     "metadata": {
      "needs_background": "light"
     },
     "output_type": "display_data"
    },
    {
     "data": {
      "image/png": "[encoded data removed]",
      "text/plain": [
       "<Figure size 432x288 with 1 Axes>"
      ]
     },
     "metadata": {
      "needs_background": "light"
     },
     "output_type": "display_data"
    }
   ],
   "source": [
    "import matplotlib.pyplot as plt\n",
    "\n",
    "acc = history.history['acc']\n",
    "val_acc = history.history['val_acc']\n",
    "loss = history.history['loss']\n",
    "val_loss = history.history['val_loss']\n",
    "\n",
    "epochs = range(len(acc))\n",
    "\n",
    "print(epochs)\n",
    "\n",
    "plt.plot(epochs, acc, 'bo', label='Training acc')\n",
    "plt.plot(epochs, val_acc, 'b', label='Validation acc')\n",
    "plt.title('Training and validation accuracy')\n",
    "plt.legend()\n",
    "plt.show()\n",
    "\n",
    "plt.plot(epochs, loss, 'bo', label='Training loss')\n",
    "plt.plot(epochs, val_loss, 'b', label='Validation loss')\n",
    "plt.title('Training and validation loss')\n",
    "plt.legend()\n",
    "plt.show()"
   ]
  },
  {
   "cell_type": "code",
   "execution_count": null,
   "metadata": {},
   "outputs": [],
   "source": [
    "# x = (x-np.amin(x))/(np.amax(x)-np.amin(x))"
   ]
  },
  {
   "cell_type": "code",
   "execution_count": 15,
   "metadata": {},
   "outputs": [],
   "source": [
    "x = x.reshape(x.shape[0], x.shape[1], x.shape[2], 1)"
   ]
  },
  {
   "cell_type": "code",
   "execution_count": 16,
   "metadata": {},
   "outputs": [
    {
     "data": {
      "text/plain": [
       "(1070, 862, 128, 1)"
      ]
     },
     "execution_count": 16,
     "metadata": {},
     "output_type": "execute_result"
    }
   ],
   "source": [
    "(x_train, x_test, y_train, y_test) = train_test_split(x, y, test_size=0.2,\n",
    "        random_state=42)\n",
    "x_test.shape"
   ]
  },
  {
   "cell_type": "code",
   "execution_count": 17,
   "metadata": {},
   "outputs": [],
   "source": [
    "model = models.Sequential()\n",
    "model.add(layers.Conv2D(64, (3, 3), padding='same', name='conv1',\n",
    "                        input_shape=(x_train.shape[1], x_train.shape[2], 1)))\n",
    "model.add(layers.BatchNormalization(axis=3, name='bn1'))\n",
    "model.add(layers.Activation('relu'))\n",
    "model.add(layers.MaxPooling2D(pool_size=(2, 2), strides=(2, 2), name='pool1'))\n",
    "model.add(layers.Dropout(0.1, name='dropout1'))\n",
    "\n",
    "model.add(layers.Conv2D(128, (3, 3), padding='same', name='conv2'))\n",
    "model.add(layers.BatchNormalization(axis=3, name='bn2'))\n",
    "model.add(layers.Activation('relu'))\n",
    "model.add(layers.MaxPooling2D(pool_size=(3, 3), strides=(3, 3), name='pool2'))\n",
    "model.add(layers.Dropout(0.1, name='dropout2'))\n",
    "\n",
    "model.add(layers.Conv2D(128, (3, 3), padding='same', name='conv3'))\n",
    "model.add(layers.BatchNormalization(axis=3, name='bn3'))\n",
    "model.add(layers.Activation('relu'))\n",
    "model.add(layers.MaxPooling2D(pool_size=(4, 4), strides=(4, 4), name='pool3'))\n",
    "model.add(layers.Dropout(0.1, name='dropout3'))\n",
    "\n",
    "model.add(layers.Flatten())\n",
    "\n",
    "model.add(layers.Dropout(0.3, name='dropout_final'))\n",
    "\n",
    "model.add(layers.Dense(NUM_GENRES, activation='softmax', name='output'))"
   ]
  },
  {
   "cell_type": "code",
   "execution_count": 21,
   "metadata": {
    "collapsed": true
   },
   "outputs": [
    {
     "name": "stdout",
     "output_type": "stream",
     "text": [
      "_________________________________________________________________\n",
      "Layer (type)                 Output Shape              Param #   \n",
      "=================================================================\n",
      "conv1 (Conv2D)               (None, 862, 128, 64)      640       \n",
      "_________________________________________________________________\n",
      "bn1 (BatchNormalization)     (None, 862, 128, 64)      256       \n",
      "_________________________________________________________________\n",
      "activation_17 (Activation)   (None, 862, 128, 64)      0         \n",
      "_________________________________________________________________\n",
      "pool1 (MaxPooling2D)         (None, 431, 64, 64)       0         \n",
      "_________________________________________________________________\n",
      "dropout1 (Dropout)           (None, 431, 64, 64)       0         \n",
      "_________________________________________________________________\n",
      "conv2 (Conv2D)               (None, 431, 64, 128)      73856     \n",
      "_________________________________________________________________\n",
      "bn2 (BatchNormalization)     (None, 431, 64, 128)      512       \n",
      "_________________________________________________________________\n",
      "activation_18 (Activation)   (None, 431, 64, 128)      0         \n",
      "_________________________________________________________________\n",
      "pool2 (MaxPooling2D)         (None, 143, 21, 128)      0         \n",
      "_________________________________________________________________\n",
      "dropout2 (Dropout)           (None, 143, 21, 128)      0         \n",
      "_________________________________________________________________\n",
      "conv3 (Conv2D)               (None, 143, 21, 128)      147584    \n",
      "_________________________________________________________________\n",
      "bn3 (BatchNormalization)     (None, 143, 21, 128)      512       \n",
      "_________________________________________________________________\n",
      "activation_19 (Activation)   (None, 143, 21, 128)      0         \n",
      "_________________________________________________________________\n",
      "pool3 (MaxPooling2D)         (None, 35, 5, 128)        0         \n",
      "_________________________________________________________________\n",
      "dropout3 (Dropout)           (None, 35, 5, 128)        0         \n",
      "_________________________________________________________________\n",
      "flatten_3 (Flatten)          (None, 22400)             0         \n",
      "_________________________________________________________________\n",
      "dropout_final (Dropout)      (None, 22400)             0         \n",
      "_________________________________________________________________\n",
      "output (Dense)               (None, 3)                 67203     \n",
      "=================================================================\n",
      "Total params: 290,563\n",
      "Trainable params: 289,923\n",
      "Non-trainable params: 640\n",
      "_________________________________________________________________\n"
     ]
    }
   ],
   "source": [
    "model.summary()"
   ]
  },
  {
   "cell_type": "code",
   "execution_count": 18,
   "metadata": {
    "scrolled": true
   },
   "outputs": [
    {
     "name": "stdout",
     "output_type": "stream",
     "text": [
      "Train on 3420 samples, validate on 856 samples\n",
      "Epoch 1/100\n",
      "3420/3420 [==============================] - 25s 7ms/step - loss: 1.5747 - acc: 0.5570 - val_loss: 0.9891 - val_acc: 0.5876\n",
      "Epoch 2/100\n",
      "3420/3420 [==============================] - 23s 7ms/step - loss: 1.5425 - acc: 0.5564 - val_loss: 0.9767 - val_acc: 0.5864\n",
      "Epoch 3/100\n",
      "3420/3420 [==============================] - 23s 7ms/step - loss: 1.5581 - acc: 0.5491 - val_loss: 0.9674 - val_acc: 0.5864\n",
      "Epoch 4/100\n",
      "3420/3420 [==============================] - 23s 7ms/step - loss: 1.5445 - acc: 0.5544 - val_loss: 0.9582 - val_acc: 0.5876\n",
      "Epoch 5/100\n",
      "3420/3420 [==============================] - 24s 7ms/step - loss: 1.5387 - acc: 0.5547 - val_loss: 0.9477 - val_acc: 0.5853\n",
      "Epoch 6/100\n",
      "3420/3420 [==============================] - 24s 7ms/step - loss: 1.4816 - acc: 0.5485 - val_loss: 0.9398 - val_acc: 0.5841\n",
      "Epoch 7/100\n",
      "3420/3420 [==============================] - 24s 7ms/step - loss: 1.5294 - acc: 0.5336 - val_loss: 0.9310 - val_acc: 0.5841\n",
      "Epoch 8/100\n",
      "3420/3420 [==============================] - 24s 7ms/step - loss: 1.5410 - acc: 0.5386 - val_loss: 0.9222 - val_acc: 0.5806\n",
      "Epoch 9/100\n",
      "3420/3420 [==============================] - 23s 7ms/step - loss: 1.4572 - acc: 0.5465 - val_loss: 0.9146 - val_acc: 0.5783\n",
      "Epoch 10/100\n",
      "3420/3420 [==============================] - 23s 7ms/step - loss: 1.4481 - acc: 0.5491 - val_loss: 0.9067 - val_acc: 0.5771\n",
      "Epoch 11/100\n",
      "3420/3420 [==============================] - 23s 7ms/step - loss: 1.4478 - acc: 0.5456 - val_loss: 0.8976 - val_acc: 0.57594323 - a -\n",
      "Epoch 12/100\n",
      "3420/3420 [==============================] - 24s 7ms/step - loss: 1.4744 - acc: 0.5371 - val_loss: 0.8902 - val_acc: 0.5748\n",
      "Epoch 13/100\n",
      "3420/3420 [==============================] - 24s 7ms/step - loss: 1.4182 - acc: 0.5433 - val_loss: 0.8838 - val_acc: 0.5724\n",
      "Epoch 14/100\n",
      "3420/3420 [==============================] - 24s 7ms/step - loss: 1.4763 - acc: 0.5333 - val_loss: 0.8785 - val_acc: 0.5724\n",
      "Epoch 15/100\n",
      "3420/3420 [==============================] - 24s 7ms/step - loss: 1.4358 - acc: 0.5386 - val_loss: 0.8710 - val_acc: 0.5713\n",
      "Epoch 16/100\n",
      "3420/3420 [==============================] - 24s 7ms/step - loss: 1.3463 - acc: 0.5395 - val_loss: 0.8657 - val_acc: 0.5666\n",
      "Epoch 17/100\n",
      "3420/3420 [==============================] - 24s 7ms/step - loss: 1.3414 - acc: 0.5409 - val_loss: 0.8597 - val_acc: 0.5689\n",
      "Epoch 18/100\n",
      "3420/3420 [==============================] - 23s 7ms/step - loss: 1.3938 - acc: 0.5459 - val_loss: 0.8539 - val_acc: 0.5654\n",
      "Epoch 19/100\n",
      "3420/3420 [==============================] - 24s 7ms/step - loss: 1.3963 - acc: 0.5292 - val_loss: 0.8491 - val_acc: 0.5654\n",
      "Epoch 20/100\n",
      "3420/3420 [==============================] - 24s 7ms/step - loss: 1.3965 - acc: 0.5389 - val_loss: 0.8441 - val_acc: 0.5631\n",
      "Epoch 21/100\n",
      "1568/3420 [============>.................] - ETA: 11s - loss: 1.3980 - acc: 0.5249"
     ]
    },
    {
     "ename": "KeyboardInterrupt",
     "evalue": "",
     "output_type": "error",
     "traceback": [
      "\u001b[0;31m---------------------------------------------------------------------------\u001b[0m",
      "\u001b[0;31mKeyboardInterrupt\u001b[0m                         Traceback (most recent call last)",
      "\u001b[0;32m<ipython-input-18-c1ec7dd85fbb>\u001b[0m in \u001b[0;36m<module>\u001b[0;34m()\u001b[0m\n\u001b[1;32m      3\u001b[0m               metrics=['acc'])\n\u001b[1;32m      4\u001b[0m \u001b[0;34m\u001b[0m\u001b[0m\n\u001b[0;32m----> 5\u001b[0;31m \u001b[0mhistory\u001b[0m \u001b[0;34m=\u001b[0m \u001b[0mmodel\u001b[0m\u001b[0;34m.\u001b[0m\u001b[0mfit\u001b[0m\u001b[0;34m(\u001b[0m\u001b[0mx_train\u001b[0m\u001b[0;34m,\u001b[0m \u001b[0my_train\u001b[0m\u001b[0;34m,\u001b[0m \u001b[0mepochs\u001b[0m\u001b[0;34m=\u001b[0m\u001b[0;36m100\u001b[0m\u001b[0;34m,\u001b[0m \u001b[0mbatch_size\u001b[0m\u001b[0;34m=\u001b[0m\u001b[0;36m32\u001b[0m\u001b[0;34m,\u001b[0m \u001b[0mvalidation_split\u001b[0m\u001b[0;34m=\u001b[0m\u001b[0;36m0.2\u001b[0m\u001b[0;34m)\u001b[0m\u001b[0;34m\u001b[0m\u001b[0m\n\u001b[0m",
      "\u001b[0;32m~/anaconda3/lib/python3.6/site-packages/keras/engine/training.py\u001b[0m in \u001b[0;36mfit\u001b[0;34m(self, x, y, batch_size, epochs, verbose, callbacks, validation_split, validation_data, shuffle, class_weight, sample_weight, initial_epoch, steps_per_epoch, validation_steps, **kwargs)\u001b[0m\n\u001b[1;32m   1035\u001b[0m                                         \u001b[0minitial_epoch\u001b[0m\u001b[0;34m=\u001b[0m\u001b[0minitial_epoch\u001b[0m\u001b[0;34m,\u001b[0m\u001b[0;34m\u001b[0m\u001b[0m\n\u001b[1;32m   1036\u001b[0m                                         \u001b[0msteps_per_epoch\u001b[0m\u001b[0;34m=\u001b[0m\u001b[0msteps_per_epoch\u001b[0m\u001b[0;34m,\u001b[0m\u001b[0;34m\u001b[0m\u001b[0m\n\u001b[0;32m-> 1037\u001b[0;31m                                         validation_steps=validation_steps)\n\u001b[0m\u001b[1;32m   1038\u001b[0m \u001b[0;34m\u001b[0m\u001b[0m\n\u001b[1;32m   1039\u001b[0m     def evaluate(self, x=None, y=None,\n",
      "\u001b[0;32m~/anaconda3/lib/python3.6/site-packages/keras/engine/training_arrays.py\u001b[0m in \u001b[0;36mfit_loop\u001b[0;34m(model, f, ins, out_labels, batch_size, epochs, verbose, callbacks, val_f, val_ins, shuffle, callback_metrics, initial_epoch, steps_per_epoch, validation_steps)\u001b[0m\n\u001b[1;32m    197\u001b[0m                     \u001b[0mins_batch\u001b[0m\u001b[0;34m[\u001b[0m\u001b[0mi\u001b[0m\u001b[0;34m]\u001b[0m \u001b[0;34m=\u001b[0m \u001b[0mins_batch\u001b[0m\u001b[0;34m[\u001b[0m\u001b[0mi\u001b[0m\u001b[0;34m]\u001b[0m\u001b[0;34m.\u001b[0m\u001b[0mtoarray\u001b[0m\u001b[0;34m(\u001b[0m\u001b[0;34m)\u001b[0m\u001b[0;34m\u001b[0m\u001b[0m\n\u001b[1;32m    198\u001b[0m \u001b[0;34m\u001b[0m\u001b[0m\n\u001b[0;32m--> 199\u001b[0;31m                 \u001b[0mouts\u001b[0m \u001b[0;34m=\u001b[0m \u001b[0mf\u001b[0m\u001b[0;34m(\u001b[0m\u001b[0mins_batch\u001b[0m\u001b[0;34m)\u001b[0m\u001b[0;34m\u001b[0m\u001b[0m\n\u001b[0m\u001b[1;32m    200\u001b[0m                 \u001b[0mouts\u001b[0m \u001b[0;34m=\u001b[0m \u001b[0mto_list\u001b[0m\u001b[0;34m(\u001b[0m\u001b[0mouts\u001b[0m\u001b[0;34m)\u001b[0m\u001b[0;34m\u001b[0m\u001b[0m\n\u001b[1;32m    201\u001b[0m                 \u001b[0;32mfor\u001b[0m \u001b[0ml\u001b[0m\u001b[0;34m,\u001b[0m \u001b[0mo\u001b[0m \u001b[0;32min\u001b[0m \u001b[0mzip\u001b[0m\u001b[0;34m(\u001b[0m\u001b[0mout_labels\u001b[0m\u001b[0;34m,\u001b[0m \u001b[0mouts\u001b[0m\u001b[0;34m)\u001b[0m\u001b[0;34m:\u001b[0m\u001b[0;34m\u001b[0m\u001b[0m\n",
      "\u001b[0;32m~/anaconda3/lib/python3.6/site-packages/keras/backend/tensorflow_backend.py\u001b[0m in \u001b[0;36m__call__\u001b[0;34m(self, inputs)\u001b[0m\n\u001b[1;32m   2664\u001b[0m                 \u001b[0;32mreturn\u001b[0m \u001b[0mself\u001b[0m\u001b[0;34m.\u001b[0m\u001b[0m_legacy_call\u001b[0m\u001b[0;34m(\u001b[0m\u001b[0minputs\u001b[0m\u001b[0;34m)\u001b[0m\u001b[0;34m\u001b[0m\u001b[0m\n\u001b[1;32m   2665\u001b[0m \u001b[0;34m\u001b[0m\u001b[0m\n\u001b[0;32m-> 2666\u001b[0;31m             \u001b[0;32mreturn\u001b[0m \u001b[0mself\u001b[0m\u001b[0;34m.\u001b[0m\u001b[0m_call\u001b[0m\u001b[0;34m(\u001b[0m\u001b[0minputs\u001b[0m\u001b[0;34m)\u001b[0m\u001b[0;34m\u001b[0m\u001b[0m\n\u001b[0m\u001b[1;32m   2667\u001b[0m         \u001b[0;32melse\u001b[0m\u001b[0;34m:\u001b[0m\u001b[0;34m\u001b[0m\u001b[0m\n\u001b[1;32m   2668\u001b[0m             \u001b[0;32mif\u001b[0m \u001b[0mpy_any\u001b[0m\u001b[0;34m(\u001b[0m\u001b[0mis_tensor\u001b[0m\u001b[0;34m(\u001b[0m\u001b[0mx\u001b[0m\u001b[0;34m)\u001b[0m \u001b[0;32mfor\u001b[0m \u001b[0mx\u001b[0m \u001b[0;32min\u001b[0m \u001b[0minputs\u001b[0m\u001b[0;34m)\u001b[0m\u001b[0;34m:\u001b[0m\u001b[0;34m\u001b[0m\u001b[0m\n",
      "\u001b[0;32m~/anaconda3/lib/python3.6/site-packages/keras/backend/tensorflow_backend.py\u001b[0m in \u001b[0;36m_call\u001b[0;34m(self, inputs)\u001b[0m\n\u001b[1;32m   2634\u001b[0m                                 \u001b[0msymbol_vals\u001b[0m\u001b[0;34m,\u001b[0m\u001b[0;34m\u001b[0m\u001b[0m\n\u001b[1;32m   2635\u001b[0m                                 session)\n\u001b[0;32m-> 2636\u001b[0;31m         \u001b[0mfetched\u001b[0m \u001b[0;34m=\u001b[0m \u001b[0mself\u001b[0m\u001b[0;34m.\u001b[0m\u001b[0m_callable_fn\u001b[0m\u001b[0;34m(\u001b[0m\u001b[0;34m*\u001b[0m\u001b[0marray_vals\u001b[0m\u001b[0;34m)\u001b[0m\u001b[0;34m\u001b[0m\u001b[0m\n\u001b[0m\u001b[1;32m   2637\u001b[0m         \u001b[0;32mreturn\u001b[0m \u001b[0mfetched\u001b[0m\u001b[0;34m[\u001b[0m\u001b[0;34m:\u001b[0m\u001b[0mlen\u001b[0m\u001b[0;34m(\u001b[0m\u001b[0mself\u001b[0m\u001b[0;34m.\u001b[0m\u001b[0moutputs\u001b[0m\u001b[0;34m)\u001b[0m\u001b[0;34m]\u001b[0m\u001b[0;34m\u001b[0m\u001b[0m\n\u001b[1;32m   2638\u001b[0m \u001b[0;34m\u001b[0m\u001b[0m\n",
      "\u001b[0;32m~/anaconda3/lib/python3.6/site-packages/tensorflow/python/client/session.py\u001b[0m in \u001b[0;36m__call__\u001b[0;34m(self, *args)\u001b[0m\n\u001b[1;32m   1449\u001b[0m         \u001b[0;32mif\u001b[0m \u001b[0mself\u001b[0m\u001b[0;34m.\u001b[0m\u001b[0m_session\u001b[0m\u001b[0;34m.\u001b[0m\u001b[0m_created_with_new_api\u001b[0m\u001b[0;34m:\u001b[0m\u001b[0;34m\u001b[0m\u001b[0m\n\u001b[1;32m   1450\u001b[0m           return tf_session.TF_SessionRunCallable(\n\u001b[0;32m-> 1451\u001b[0;31m               self._session._session, self._handle, args, status, None)\n\u001b[0m\u001b[1;32m   1452\u001b[0m         \u001b[0;32melse\u001b[0m\u001b[0;34m:\u001b[0m\u001b[0;34m\u001b[0m\u001b[0m\n\u001b[1;32m   1453\u001b[0m           return tf_session.TF_DeprecatedSessionRunCallable(\n",
      "\u001b[0;31mKeyboardInterrupt\u001b[0m: "
     ]
    }
   ],
   "source": [
    "model.compile(loss='categorical_crossentropy',\n",
    "              optimizer=optimizers.Adam(lr=0.00000001),\n",
    "              metrics=['acc'])\n",
    "\n",
    "history = model.fit(x_train, y_train, epochs=100, batch_size=32, validation_split=0.2)"
   ]
  },
  {
   "cell_type": "code",
   "execution_count": 36,
   "metadata": {},
   "outputs": [
    {
     "name": "stdout",
     "output_type": "stream",
     "text": [
      "range(0, 100)\n"
     ]
    },
    {
     "data": {
      "image/png": "[encoded data removed]",
      "text/plain": [
       "<Figure size 432x288 with 1 Axes>"
      ]
     },
     "metadata": {
      "needs_background": "light"
     },
     "output_type": "display_data"
    },
    {
     "data": {
      "image/png": "[encoded data removed]",
      "text/plain": [
       "<Figure size 432x288 with 1 Axes>"
      ]
     },
     "metadata": {
      "needs_background": "light"
     },
     "output_type": "display_data"
    }
   ],
   "source": [
    "import matplotlib.pyplot as plt\n",
    "\n",
    "acc = history.history['acc']\n",
    "val_acc = history.history['val_acc']\n",
    "loss = history.history['loss']\n",
    "val_loss = history.history['val_loss']\n",
    "\n",
    "epochs = range(len(acc))\n",
    "\n",
    "print(epochs)\n",
    "\n",
    "plt.plot(epochs, acc, 'bo', label='Training acc')\n",
    "plt.plot(epochs, val_acc, 'b', label='Validation acc')\n",
    "plt.title('Training and validation accuracy')\n",
    "plt.legend()\n",
    "plt.show()\n",
    "\n",
    "plt.plot(epochs, loss, 'bo', label='Training loss')\n",
    "plt.plot(epochs, val_loss, 'b', label='Validation loss')\n",
    "plt.title('Training and validation loss')\n",
    "plt.legend()\n",
    "plt.show()"
   ]
  },
  {
   "cell_type": "code",
   "execution_count": null,
   "metadata": {},
   "outputs": [],
   "source": []
  }
 ],
 "metadata": {
  "kernelspec": {
   "display_name": "Python 3",
   "language": "python",
   "name": "python3"
  },
  "language_info": {
   "codemirror_mode": {
    "name": "ipython",
    "version": 3
   },
   "file_extension": ".py",
   "mimetype": "text/x-python",
   "name": "python",
   "nbconvert_exporter": "python",
   "pygments_lexer": "ipython3",
   "version": "3.6.6"
  }
 },
 "nbformat": 4,
 "nbformat_minor": 2
}
